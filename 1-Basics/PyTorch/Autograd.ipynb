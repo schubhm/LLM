{
 "cells": [
  {
   "cell_type": "markdown",
   "metadata": {},
   "source": [
    "# Autograd"
   ]
  },
  {
   "cell_type": "markdown",
   "metadata": {},
   "source": [
    "y=x^2\n",
    "#### derivative\n",
    "dy/dx=2x"
   ]
  },
  {
   "cell_type": "markdown",
   "metadata": {},
   "source": [
    "$$du/dx = du/dz * dz/dy * dy/dx$$"
   ]
  },
  {
   "cell_type": "markdown",
   "metadata": {},
   "source": [
    "X-----w----->b(sigmoid_activation_fn)-------->y^------------>loss"
   ]
  },
  {
   "cell_type": "markdown",
   "metadata": {},
   "source": [
    "## 1. Forward Pass\n",
    "$$z=wX + b$$\n",
    "$$\\hat{y} = \\sigma(wX + b) = \\frac{1}{1 + e^{-(wX + b)}}$$"
   ]
  },
  {
   "cell_type": "markdown",
   "metadata": {},
   "source": [
    "## 2. Calculate Loss"
   ]
  },
  {
   "cell_type": "markdown",
   "metadata": {},
   "source": [
    "$$Loss = \\hat{y}-y$$"
   ]
  },
  {
   "cell_type": "markdown",
   "metadata": {},
   "source": [
    "## 3. Backward Pass\n",
    "\n",
    "Compute gradients of the loss with respect to the parameters"
   ]
  },
  {
   "cell_type": "markdown",
   "metadata": {},
   "source": [
    "$$\n",
    "\\frac{d\\mathcal{L}}{dw} = \\frac{d\\mathcal{L}}{d\\hat{y}} \\cdot \\frac{d\\hat{y}}{dz} \\cdot \\frac{dz}{dw}\n",
    "$$\n",
    "\n",
    "$$\n",
    "\\frac{d\\mathcal{L}}{db} = \\frac{d\\mathcal{L}}{d\\hat{y}} \\cdot \\frac{d\\hat{y}}{dz} \\cdot \\frac{dz}{db}\n",
    "$$"
   ]
  },
  {
   "cell_type": "markdown",
   "metadata": {},
   "source": [
    "## 4. Update gradients using optimization (gradient descent)"
   ]
  },
  {
   "cell_type": "markdown",
   "metadata": {},
   "source": [
    "#### Autograd helps in automatic differentiation for tensor operations, gradient computation using gradient descent (optimization)"
   ]
  },
  {
   "cell_type": "markdown",
   "metadata": {},
   "source": []
  },
  {
   "cell_type": "code",
   "execution_count": 2,
   "metadata": {},
   "outputs": [
    {
     "name": "stdout",
     "output_type": "stream",
     "text": [
      "\u001b[2mUsing Python 3.12.3 environment at: /Users/schubhm/Projects/ai/agents/.venv\u001b[0m\n",
      "\u001b[2K\u001b[2mResolved \u001b[1m10 packages\u001b[0m \u001b[2min 886ms\u001b[0m\u001b[0m                                        \u001b[0m\n",
      "\u001b[2K\u001b[37m⠙\u001b[0m \u001b[2mPreparing packages...\u001b[0m (0/4)                                                   \n",
      "\u001b[2K\u001b[1A\u001b[37m⠙\u001b[0m \u001b[2mPreparing packages...\u001b[0m (0/4)--------------\u001b[0m\u001b[0m     0 B/1.94 MiB            \u001b[1A\n",
      "\u001b[2K\u001b[1A\u001b[37m⠙\u001b[0m \u001b[2mPreparing packages...\u001b[0m (0/4)--------------\u001b[0m\u001b[0m 16.00 KiB/1.94 MiB          \u001b[1A\n",
      "\u001b[2K\u001b[1A\u001b[37m⠙\u001b[0m \u001b[2mPreparing packages...\u001b[0m (0/4)--------------\u001b[0m\u001b[0m 32.00 KiB/1.94 MiB          \u001b[1A\n",
      "\u001b[2K\u001b[1A\u001b[37m⠙\u001b[0m \u001b[2mPreparing packages...\u001b[0m (0/4)--------------\u001b[0m\u001b[0m 48.00 KiB/1.94 MiB          \u001b[1A\n",
      "\u001b[2K\u001b[1A\u001b[37m⠙\u001b[0m \u001b[2mPreparing packages...\u001b[0m (0/4)--------------\u001b[0m\u001b[0m 64.00 KiB/1.94 MiB          \u001b[1A\n",
      "\u001b[2K\u001b[1A\u001b[37m⠙\u001b[0m \u001b[2mPreparing packages...\u001b[0m (0/4)--------------\u001b[0m\u001b[0m 80.00 KiB/1.94 MiB          \u001b[1A\n",
      "\u001b[2K\u001b[1A\u001b[37m⠙\u001b[0m \u001b[2mPreparing packages...\u001b[0m (0/4)--------------\u001b[0m\u001b[0m 96.00 KiB/1.94 MiB          \u001b[1A\n",
      "\u001b[2K\u001b[1A\u001b[37m⠙\u001b[0m \u001b[2mPreparing packages...\u001b[0m (0/4)--------------\u001b[0m\u001b[0m 112.00 KiB/1.94 MiB         \u001b[1A\n",
      "\u001b[2K\u001b[1A\u001b[37m⠙\u001b[0m \u001b[2mPreparing packages...\u001b[0m (0/4)--------------\u001b[0m\u001b[0m 112.00 KiB/1.94 MiB         \u001b[1A\n",
      "\u001b[2mmpmath              \u001b[0m \u001b[32m\u001b[2m------------------------------\u001b[0m\u001b[0m     0 B/523.63 KiB\n",
      "\u001b[2K\u001b[2A\u001b[37m⠙\u001b[0m \u001b[2mPreparing packages...\u001b[0m (0/4)--------------\u001b[0m\u001b[0m 112.00 KiB/1.94 MiB         \u001b[2A\n",
      "\u001b[2mmpmath              \u001b[0m \u001b[32m\u001b[2m------------------------------\u001b[0m\u001b[0m     0 B/523.63 KiB\n",
      "\u001b[2K\u001b[2A\u001b[37m⠙\u001b[0m \u001b[2mPreparing packages...\u001b[0m (0/4)--------------\u001b[0m\u001b[0m 112.00 KiB/1.94 MiB         \u001b[2A\n",
      "\u001b[2mmpmath              \u001b[0m \u001b[32m\u001b[2m------------------------------\u001b[0m\u001b[0m     0 B/523.63 KiB\n",
      "\u001b[2K\u001b[2A\u001b[37m⠙\u001b[0m \u001b[2mPreparing packages...\u001b[0m (0/4)--------------\u001b[0m\u001b[0m 112.00 KiB/1.94 MiB         \u001b[2A\n",
      "\u001b[2mmpmath              \u001b[0m \u001b[32m\u001b[2m------------------------------\u001b[0m\u001b[0m     0 B/523.63 KiB\n",
      "\u001b[2mnetworkx            \u001b[0m \u001b[32m--\u001b[2m----------------------------\u001b[0m\u001b[0m 112.00 KiB/1.94 MiB\n",
      "\u001b[2K\u001b[3A\u001b[37m⠙\u001b[0m \u001b[2mPreparing packages...\u001b[0m (0/4)--------------\u001b[0m\u001b[0m     0 B/65.47 MiB           \u001b[3A\n",
      "\u001b[2mmpmath              \u001b[0m \u001b[32m\u001b[2m------------------------------\u001b[0m\u001b[0m     0 B/523.63 KiB\n",
      "\u001b[2mnetworkx            \u001b[0m \u001b[32m--\u001b[2m----------------------------\u001b[0m\u001b[0m 112.00 KiB/1.94 MiB\n",
      "\u001b[2K\u001b[3A\u001b[37m⠙\u001b[0m \u001b[2mPreparing packages...\u001b[0m (0/4)--------------\u001b[0m\u001b[0m     0 B/65.47 MiB           \u001b[3A\n",
      "\u001b[2mmpmath              \u001b[0m \u001b[32m\u001b[2m------------------------------\u001b[0m\u001b[0m     0 B/523.63 KiB\n",
      "\u001b[2mnetworkx            \u001b[0m \u001b[32m--\u001b[2m----------------------------\u001b[0m\u001b[0m 112.00 KiB/1.94 MiB\n",
      "\u001b[2K\u001b[3A\u001b[37m⠙\u001b[0m \u001b[2mPreparing packages...\u001b[0m (0/4)--------------\u001b[0m\u001b[0m     0 B/65.47 MiB           \u001b[3A\n",
      "\u001b[2mmpmath              \u001b[0m \u001b[32m\u001b[2m------------------------------\u001b[0m\u001b[0m     0 B/523.63 KiB\n",
      "\u001b[2mnetworkx            \u001b[0m \u001b[32m--\u001b[2m----------------------------\u001b[0m\u001b[0m 112.00 KiB/1.94 MiB\n",
      "\u001b[2K\u001b[3A\u001b[37m⠙\u001b[0m \u001b[2mPreparing packages...\u001b[0m (0/4)--------------\u001b[0m\u001b[0m     0 B/65.47 MiB           \u001b[3A\n",
      "\u001b[2mmpmath              \u001b[0m \u001b[32m\u001b[2m------------------------------\u001b[0m\u001b[0m     0 B/523.63 KiB\n",
      "\u001b[2mnetworkx            \u001b[0m \u001b[32m--\u001b[2m----------------------------\u001b[0m\u001b[0m 112.00 KiB/1.94 MiB\n",
      "\u001b[2msympy               \u001b[0m \u001b[32m\u001b[2m------------------------------\u001b[0m\u001b[0m     0 B/6.01 MiB\n",
      "\u001b[2K\u001b[4A\u001b[37m⠙\u001b[0m \u001b[2mPreparing packages...\u001b[0m (0/4)--------------\u001b[0m\u001b[0m     0 B/65.47 MiB           \u001b[4A\n",
      "\u001b[2mmpmath              \u001b[0m \u001b[32m\u001b[2m------------------------------\u001b[0m\u001b[0m     0 B/523.63 KiB\n",
      "\u001b[2mnetworkx            \u001b[0m \u001b[32m--\u001b[2m----------------------------\u001b[0m\u001b[0m 128.00 KiB/1.94 MiB\n",
      "\u001b[2msympy               \u001b[0m \u001b[32m\u001b[2m------------------------------\u001b[0m\u001b[0m     0 B/6.01 MiB\n",
      "\u001b[2K\u001b[4A\u001b[37m⠙\u001b[0m \u001b[2mPreparing packages...\u001b[0m (0/4)--------------\u001b[0m\u001b[0m     0 B/65.47 MiB           \u001b[4A\n",
      "\u001b[2mmpmath              \u001b[0m \u001b[32m-\u001b[2m-----------------------------\u001b[0m\u001b[0m 14.85 KiB/523.63 KiB\n",
      "\u001b[2mnetworkx            \u001b[0m \u001b[32m--\u001b[2m----------------------------\u001b[0m\u001b[0m 128.00 KiB/1.94 MiB\n",
      "\u001b[2msympy               \u001b[0m \u001b[32m\u001b[2m------------------------------\u001b[0m\u001b[0m     0 B/6.01 MiB\n",
      "\u001b[2K\u001b[4A\u001b[37m⠙\u001b[0m \u001b[2mPreparing packages...\u001b[0m (0/4)--------------\u001b[0m\u001b[0m     0 B/65.47 MiB           \u001b[4A\n",
      "\u001b[2mmpmath              \u001b[0m \u001b[32m-\u001b[2m-----------------------------\u001b[0m\u001b[0m 14.85 KiB/523.63 KiB\n",
      "\u001b[2mnetworkx            \u001b[0m \u001b[32m---\u001b[2m---------------------------\u001b[0m\u001b[0m 176.00 KiB/1.94 MiB\n",
      "\u001b[2msympy               \u001b[0m \u001b[32m-\u001b[2m-----------------------------\u001b[0m\u001b[0m 16.00 KiB/6.01 MiB\n",
      "\u001b[2K\u001b[4A\u001b[37m⠹\u001b[0m \u001b[2mPreparing packages...\u001b[0m (0/4)--------------\u001b[0m\u001b[0m 16.00 KiB/65.47 MiB         \u001b[4A\n",
      "\u001b[2mmpmath              \u001b[0m \u001b[32m---------\u001b[2m---------------------\u001b[0m\u001b[0m 142.85 KiB/523.63 KiB\n",
      "\u001b[2mnetworkx            \u001b[0m \u001b[32m-----\u001b[2m-------------------------\u001b[0m\u001b[0m 271.26 KiB/1.94 MiB\n",
      "\u001b[2msympy               \u001b[0m \u001b[32m-\u001b[2m-----------------------------\u001b[0m\u001b[0m 112.00 KiB/6.01 MiB\n",
      "\u001b[2K\u001b[4A\u001b[37m⠹\u001b[0m \u001b[2mPreparing packages...\u001b[0m (0/4)--------------\u001b[0m\u001b[0m 127.82 KiB/65.47 MiB        \u001b[4A\n",
      "\u001b[2mmpmath              \u001b[0m \u001b[32m----------------\u001b[2m--------------\u001b[0m\u001b[0m 270.85 KiB/523.63 KiB\n",
      "\u001b[2mnetworkx            \u001b[0m \u001b[32m-------\u001b[2m-----------------------\u001b[0m\u001b[0m 446.53 KiB/1.94 MiB\n",
      "\u001b[2msympy               \u001b[0m \u001b[32m--\u001b[2m----------------------------\u001b[0m\u001b[0m 288.00 KiB/6.01 MiB\n",
      "\u001b[2K\u001b[4A\u001b[37m⠹\u001b[0m \u001b[2mPreparing packages...\u001b[0m (0/4)--------------\u001b[0m\u001b[0m 255.82 KiB/65.47 MiB        \u001b[4A\n",
      "\u001b[2mmpmath              \u001b[0m \u001b[32m---------------------\u001b[2m---------\u001b[0m\u001b[0m 350.85 KiB/523.63 KiB\n",
      "\u001b[2mnetworkx            \u001b[0m \u001b[32m--------\u001b[2m----------------------\u001b[0m\u001b[0m 511.26 KiB/1.94 MiB\n",
      "\u001b[2msympy               \u001b[0m \u001b[32m--\u001b[2m----------------------------\u001b[0m\u001b[0m 368.00 KiB/6.01 MiB\n",
      "\u001b[2K\u001b[4A\u001b[37m⠹\u001b[0m \u001b[2mPreparing packages...\u001b[0m (0/4)--------------\u001b[0m\u001b[0m 351.82 KiB/65.47 MiB        \u001b[4A\n",
      "\u001b[2mmpmath              \u001b[0m \u001b[32m------------------------\u001b[2m------\u001b[0m\u001b[0m 414.85 KiB/523.63 KiB\n",
      "\u001b[2mnetworkx            \u001b[0m \u001b[32m--------\u001b[2m----------------------\u001b[0m\u001b[0m 527.26 KiB/1.94 MiB\n",
      "\u001b[2msympy               \u001b[0m \u001b[32m---\u001b[2m---------------------------\u001b[0m\u001b[0m 414.82 KiB/6.01 MiB\n",
      "\u001b[2K\u001b[4A\u001b[37m⠹\u001b[0m \u001b[2mPreparing packages...\u001b[0m (0/4)--------------\u001b[0m\u001b[0m 543.82 KiB/65.47 MiB        \u001b[4A\n",
      "\u001b[2mnetworkx            \u001b[0m \u001b[32m----------\u001b[2m--------------------\u001b[0m\u001b[0m 621.85 KiB/1.94 MiB\n",
      "\u001b[2msympy               \u001b[0m \u001b[32m---\u001b[2m---------------------------\u001b[0m\u001b[0m 512.00 KiB/6.01 MiB\n",
      "\u001b[2K\u001b[3A\u001b[37m⠹\u001b[0m \u001b[2mPreparing packages...\u001b[0m (0/4)--------------\u001b[0m\u001b[0m 607.82 KiB/65.47 MiB        \u001b[3A\n",
      "\u001b[2mnetworkx            \u001b[0m \u001b[32m-------------\u001b[2m-----------------\u001b[0m\u001b[0m 831.26 KiB/1.94 MiB\n",
      "\u001b[2msympy               \u001b[0m \u001b[32m----\u001b[2m--------------------------\u001b[0m\u001b[0m 688.00 KiB/6.01 MiB\n",
      "\u001b[2K\u001b[3A\u001b[37m⠸\u001b[0m \u001b[2mPreparing packages...\u001b[0m (1/4)--------------\u001b[0m\u001b[0m 703.82 KiB/65.47 MiB        \u001b[3A\n",
      "\u001b[2mnetworkx            \u001b[0m \u001b[32m----------------\u001b[2m--------------\u001b[0m\u001b[0m 1.03 MiB/1.94 MiB\n",
      "\u001b[2msympy               \u001b[0m \u001b[32m-----\u001b[2m-------------------------\u001b[0m\u001b[0m 880.00 KiB/6.01 MiB\n",
      "\u001b[2K\u001b[3A\u001b[37m⠸\u001b[0m \u001b[2mPreparing packages...\u001b[0m (1/4)--------------\u001b[0m\u001b[0m 927.82 KiB/65.47 MiB        \u001b[3A\n",
      "\u001b[2mnetworkx            \u001b[0m \u001b[32m------------------\u001b[2m------------\u001b[0m\u001b[0m 1.14 MiB/1.94 MiB\n",
      "\u001b[2msympy               \u001b[0m \u001b[32m-----\u001b[2m-------------------------\u001b[0m\u001b[0m 1008.00 KiB/6.01 MiB\n",
      "\u001b[2K\u001b[3A\u001b[37m⠸\u001b[0m \u001b[2mPreparing packages...\u001b[0m (1/4)--------------\u001b[0m\u001b[0m 1.02 MiB/65.47 MiB          \u001b[3A\n",
      "\u001b[2mnetworkx            \u001b[0m \u001b[32m--------------------\u001b[2m----------\u001b[0m\u001b[0m 1.26 MiB/1.94 MiB\n",
      "\u001b[2msympy               \u001b[0m \u001b[32m------\u001b[2m------------------------\u001b[0m\u001b[0m 1.11 MiB/6.01 MiB\n",
      "\u001b[2K\u001b[3A\u001b[37m⠸\u001b[0m \u001b[2mPreparing packages...\u001b[0m (1/4)--------------\u001b[0m\u001b[0m 1.14 MiB/65.47 MiB          \u001b[3A\n",
      "\u001b[2mnetworkx            \u001b[0m \u001b[32m------------------------\u001b[2m------\u001b[0m\u001b[0m 1.50 MiB/1.94 MiB\n",
      "\u001b[2msympy               \u001b[0m \u001b[32m-------\u001b[2m-----------------------\u001b[0m\u001b[0m 1.34 MiB/6.01 MiB\n",
      "\u001b[2K\u001b[3A\u001b[37m⠼\u001b[0m \u001b[2mPreparing packages...\u001b[0m (1/4)--------------\u001b[0m\u001b[0m 1.37 MiB/65.47 MiB          \u001b[3A\n",
      "\u001b[2mnetworkx            \u001b[0m \u001b[32m--------------------------\u001b[2m----\u001b[0m\u001b[0m 1.66 MiB/1.94 MiB\n",
      "\u001b[2msympy               \u001b[0m \u001b[32m--------\u001b[2m----------------------\u001b[0m\u001b[0m 1.51 MiB/6.01 MiB\n",
      "\u001b[2K\u001b[3A\u001b[37m⠼\u001b[0m \u001b[2mPreparing packages...\u001b[0m (1/4)--------------\u001b[0m\u001b[0m 1.52 MiB/65.47 MiB          \u001b[3A\n",
      "\u001b[2msympy               \u001b[0m \u001b[32m---------\u001b[2m---------------------\u001b[0m\u001b[0m 1.79 MiB/6.01 MiB\n",
      "\u001b[2K\u001b[2A\u001b[37m⠼\u001b[0m \u001b[2mPreparing packages...\u001b[0m (1/4)--------------\u001b[0m\u001b[0m 1.83 MiB/65.47 MiB          \u001b[2A\n",
      "\u001b[2msympy               \u001b[0m \u001b[32m----------\u001b[2m--------------------\u001b[0m\u001b[0m 1.83 MiB/6.01 MiB\n",
      "\u001b[2K\u001b[2A\u001b[37m⠼\u001b[0m \u001b[2mPreparing packages...\u001b[0m (1/4)--------------\u001b[0m\u001b[0m 1.86 MiB/65.47 MiB          \u001b[2A\n",
      "\u001b[2msympy               \u001b[0m \u001b[32m-----------\u001b[2m-------------------\u001b[0m\u001b[0m 2.08 MiB/6.01 MiB\n",
      "\u001b[2K\u001b[2A\u001b[37m⠼\u001b[0m \u001b[2mPreparing packages...\u001b[0m (1/4)--------------\u001b[0m\u001b[0m 2.17 MiB/65.47 MiB          \u001b[2A\n",
      "\u001b[2msympy               \u001b[0m \u001b[32m-------------\u001b[2m-----------------\u001b[0m\u001b[0m 2.42 MiB/6.01 MiB\n",
      "\u001b[2K\u001b[2A\u001b[37m⠴\u001b[0m \u001b[2mPreparing packages...\u001b[0m (2/4)--------------\u001b[0m\u001b[0m 2.50 MiB/65.47 MiB          \u001b[2A\n",
      "\u001b[2msympy               \u001b[0m \u001b[32m---------------\u001b[2m---------------\u001b[0m\u001b[0m 2.89 MiB/6.01 MiB\n",
      "\u001b[2K\u001b[2A\u001b[37m⠴\u001b[0m \u001b[2mPreparing packages...\u001b[0m (2/4)--------------\u001b[0m\u001b[0m 2.89 MiB/65.47 MiB          \u001b[2A\n",
      "\u001b[2msympy               \u001b[0m \u001b[32m----------------\u001b[2m--------------\u001b[0m\u001b[0m 3.18 MiB/6.01 MiB\n",
      "\u001b[2K\u001b[2A\u001b[37m⠴\u001b[0m \u001b[2mPreparing packages...\u001b[0m (2/4)--------------\u001b[0m\u001b[0m 3.26 MiB/65.47 MiB          \u001b[2A\n",
      "\u001b[2msympy               \u001b[0m \u001b[32m--------------------\u001b[2m----------\u001b[0m\u001b[0m 3.81 MiB/6.01 MiB\n",
      "\u001b[2K\u001b[2A\u001b[37m⠴\u001b[0m \u001b[2mPreparing packages...\u001b[0m (2/4)--------------\u001b[0m\u001b[0m 3.64 MiB/65.47 MiB          \u001b[2A\n",
      "\u001b[2msympy               \u001b[0m \u001b[32m----------------------\u001b[2m--------\u001b[0m\u001b[0m 4.29 MiB/6.01 MiB\n",
      "\u001b[2K\u001b[2A\u001b[37m⠦\u001b[0m \u001b[2mPreparing packages...\u001b[0m (2/4)--------------\u001b[0m\u001b[0m 4.14 MiB/65.47 MiB          \u001b[2A\n",
      "\u001b[2msympy               \u001b[0m \u001b[32m------------------------\u001b[2m------\u001b[0m\u001b[0m 4.80 MiB/6.01 MiB\n",
      "\u001b[2K\u001b[2A\u001b[37m⠦\u001b[0m \u001b[2mPreparing packages...\u001b[0m (2/4)--------------\u001b[0m\u001b[0m 4.64 MiB/65.47 MiB          \u001b[2A\n",
      "\u001b[2msympy               \u001b[0m \u001b[32m--------------------------\u001b[2m----\u001b[0m\u001b[0m 5.09 MiB/6.01 MiB\n",
      "\u001b[2K\u001b[2A\u001b[37m⠦\u001b[0m \u001b[2mPreparing packages...\u001b[0m (2/4)--------------\u001b[0m\u001b[0m 5.47 MiB/65.47 MiB          \u001b[2A\n",
      "\u001b[2msympy               \u001b[0m \u001b[32m----------------------------\u001b[2m--\u001b[0m\u001b[0m 5.44 MiB/6.01 MiB\n",
      "\u001b[2K\u001b[2A\u001b[37m⠦\u001b[0m \u001b[2mPreparing packages...\u001b[0m (2/4)--------------\u001b[0m\u001b[0m 5.93 MiB/65.47 MiB          \u001b[2A\n",
      "\u001b[2msympy               \u001b[0m \u001b[32m-----------------------------\u001b[2m-\u001b[0m\u001b[0m 5.64 MiB/6.01 MiB\n",
      "\u001b[2K\u001b[2A\u001b[37m⠧\u001b[0m \u001b[2mPreparing packages...\u001b[0m (2/4)--------------\u001b[0m\u001b[0m 6.12 MiB/65.47 MiB          \u001b[2A\n",
      "\u001b[2msympy               \u001b[0m \u001b[32m------------------------------\u001b[2m\u001b[0m\u001b[0m 5.83 MiB/6.01 MiB\n",
      "\u001b[2K\u001b[2A\u001b[37m⠧\u001b[0m \u001b[2mPreparing packages...\u001b[0m (2/4)--------------\u001b[0m\u001b[0m 6.30 MiB/65.47 MiB          \u001b[2A\n",
      "\u001b[2K\u001b[1A\u001b[37m⠧\u001b[0m \u001b[2mPreparing packages...\u001b[0m (2/4)--------------\u001b[0m\u001b[0m 6.50 MiB/65.47 MiB          \u001b[1A\n",
      "\u001b[2K\u001b[1A\u001b[37m⠧\u001b[0m \u001b[2mPreparing packages...\u001b[0m (2/4)--------------\u001b[0m\u001b[0m 6.55 MiB/65.47 MiB          \u001b[1A\n",
      "\u001b[2K\u001b[1A\u001b[37m⠧\u001b[0m \u001b[2mPreparing packages...\u001b[0m (2/4)--------------\u001b[0m\u001b[0m 6.80 MiB/65.47 MiB          \u001b[1A\n",
      "\u001b[2K\u001b[1A\u001b[37m⠇\u001b[0m \u001b[2mPreparing packages...\u001b[0m (3/4)--------------\u001b[0m\u001b[0m 7.14 MiB/65.47 MiB          \u001b[1A\n",
      "\u001b[2K\u001b[1A\u001b[37m⠇\u001b[0m \u001b[2mPreparing packages...\u001b[0m (3/4)--------------\u001b[0m\u001b[0m 7.59 MiB/65.47 MiB          \u001b[1A\n",
      "\u001b[2K\u001b[1A\u001b[37m⠇\u001b[0m \u001b[2mPreparing packages...\u001b[0m (3/4)--------------\u001b[0m\u001b[0m 8.00 MiB/65.47 MiB          \u001b[1A\n",
      "\u001b[2K\u001b[1A\u001b[37m⠇\u001b[0m \u001b[2mPreparing packages...\u001b[0m (3/4)--------------\u001b[0m\u001b[0m 8.73 MiB/65.47 MiB          \u001b[1A\n",
      "\u001b[2K\u001b[1A\u001b[37m⠋\u001b[0m \u001b[2mPreparing packages...\u001b[0m (3/4)--------------\u001b[0m\u001b[0m 9.26 MiB/65.47 MiB          \u001b[1A\n",
      "\u001b[2K\u001b[1A\u001b[37m⠋\u001b[0m \u001b[2mPreparing packages...\u001b[0m (3/4)--------------\u001b[0m\u001b[0m 9.70 MiB/65.47 MiB          \u001b[1A\n",
      "\u001b[2K\u001b[1A\u001b[37m⠋\u001b[0m \u001b[2mPreparing packages...\u001b[0m (3/4)--------------\u001b[0m\u001b[0m 9.89 MiB/65.47 MiB          \u001b[1A\n",
      "\u001b[2K\u001b[1A\u001b[37m⠋\u001b[0m \u001b[2mPreparing packages...\u001b[0m (3/4)--------------\u001b[0m\u001b[0m 10.05 MiB/65.47 MiB         \u001b[1A\n",
      "\u001b[2K\u001b[1A\u001b[37m⠙\u001b[0m \u001b[2mPreparing packages...\u001b[0m (3/4)--------------\u001b[0m\u001b[0m 10.17 MiB/65.47 MiB         \u001b[1A\n",
      "\u001b[2K\u001b[1A\u001b[37m⠹\u001b[0m \u001b[2mPreparing packages...\u001b[0m (3/4)--------------\u001b[0m\u001b[0m 10.22 MiB/65.47 MiB         \u001b[1A\n",
      "\u001b[2K\u001b[1A\u001b[37m⠹\u001b[0m \u001b[2mPreparing packages...\u001b[0m (3/4)--------------\u001b[0m\u001b[0m 10.22 MiB/65.47 MiB         \u001b[1A\n",
      "\u001b[2K\u001b[1A\u001b[37m⠹\u001b[0m \u001b[2mPreparing packages...\u001b[0m (3/4)--------------\u001b[0m\u001b[0m 10.23 MiB/65.47 MiB         \u001b[1A\n",
      "\u001b[2K\u001b[1A\u001b[37m⠹\u001b[0m \u001b[2mPreparing packages...\u001b[0m (3/4)--------------\u001b[0m\u001b[0m 10.25 MiB/65.47 MiB         \u001b[1A\n",
      "\u001b[2K\u001b[1A\u001b[37m⠹\u001b[0m \u001b[2mPreparing packages...\u001b[0m (3/4)--------------\u001b[0m\u001b[0m 10.28 MiB/65.47 MiB         \u001b[1A\n",
      "\u001b[2K\u001b[1A\u001b[37m⠹\u001b[0m \u001b[2mPreparing packages...\u001b[0m (3/4)--------------\u001b[0m\u001b[0m 10.33 MiB/65.47 MiB         \u001b[1A\n",
      "\u001b[2K\u001b[1A\u001b[37m⠹\u001b[0m \u001b[2mPreparing packages...\u001b[0m (3/4)--------------\u001b[0m\u001b[0m 10.50 MiB/65.47 MiB         \u001b[1A\n",
      "\u001b[2K\u001b[1A\u001b[37m⠸\u001b[0m \u001b[2mPreparing packages...\u001b[0m (3/4)--------------\u001b[0m\u001b[0m 10.66 MiB/65.47 MiB         \u001b[1A\n",
      "\u001b[2K\u001b[1A\u001b[37m⠸\u001b[0m \u001b[2mPreparing packages...\u001b[0m (3/4)--------------\u001b[0m\u001b[0m 10.83 MiB/65.47 MiB         \u001b[1A\n",
      "\u001b[2K\u001b[1A\u001b[37m⠸\u001b[0m \u001b[2mPreparing packages...\u001b[0m (3/4)--------------\u001b[0m\u001b[0m 11.00 MiB/65.47 MiB         \u001b[1A\n",
      "\u001b[2K\u001b[1A\u001b[37m⠸\u001b[0m \u001b[2mPreparing packages...\u001b[0m (3/4)--------------\u001b[0m\u001b[0m 11.16 MiB/65.47 MiB         \u001b[1A\n",
      "\u001b[2K\u001b[1A\u001b[37m⠼\u001b[0m \u001b[2mPreparing packages...\u001b[0m (3/4)--------------\u001b[0m\u001b[0m 11.31 MiB/65.47 MiB         \u001b[1A\n",
      "\u001b[2K\u001b[1A\u001b[37m⠼\u001b[0m \u001b[2mPreparing packages...\u001b[0m (3/4)--------------\u001b[0m\u001b[0m 11.48 MiB/65.47 MiB         \u001b[1A\n",
      "\u001b[2K\u001b[1A\u001b[37m⠼\u001b[0m \u001b[2mPreparing packages...\u001b[0m (3/4)--------------\u001b[0m\u001b[0m 11.65 MiB/65.47 MiB         \u001b[1A\n",
      "\u001b[2K\u001b[1A\u001b[37m⠼\u001b[0m \u001b[2mPreparing packages...\u001b[0m (3/4)--------------\u001b[0m\u001b[0m 11.83 MiB/65.47 MiB         \u001b[1A\n",
      "\u001b[2K\u001b[1A\u001b[37m⠴\u001b[0m \u001b[2mPreparing packages...\u001b[0m (3/4)--------------\u001b[0m\u001b[0m 12.00 MiB/65.47 MiB         \u001b[1A\n",
      "\u001b[2K\u001b[1A\u001b[37m⠴\u001b[0m \u001b[2mPreparing packages...\u001b[0m (3/4)--------------\u001b[0m\u001b[0m 12.17 MiB/65.47 MiB         \u001b[1A\n",
      "\u001b[2K\u001b[1A\u001b[37m⠴\u001b[0m \u001b[2mPreparing packages...\u001b[0m (3/4)--------------\u001b[0m\u001b[0m 12.33 MiB/65.47 MiB         \u001b[1A\n",
      "\u001b[2K\u001b[1A\u001b[37m⠴\u001b[0m \u001b[2mPreparing packages...\u001b[0m (3/4)--------------\u001b[0m\u001b[0m 12.47 MiB/65.47 MiB         \u001b[1A\n",
      "\u001b[2K\u001b[1A\u001b[37m⠦\u001b[0m \u001b[2mPreparing packages...\u001b[0m (3/4)--------------\u001b[0m\u001b[0m 12.66 MiB/65.47 MiB         \u001b[1A\n",
      "\u001b[2K\u001b[1A\u001b[37m⠦\u001b[0m \u001b[2mPreparing packages...\u001b[0m (3/4)--------------\u001b[0m\u001b[0m 12.83 MiB/65.47 MiB         \u001b[1A\n",
      "\u001b[2K\u001b[1A\u001b[37m⠦\u001b[0m \u001b[2mPreparing packages...\u001b[0m (3/4)--------------\u001b[0m\u001b[0m 12.92 MiB/65.47 MiB         \u001b[1A\n",
      "\u001b[2K\u001b[1A\u001b[37m⠦\u001b[0m \u001b[2mPreparing packages...\u001b[0m (3/4)--------------\u001b[0m\u001b[0m 13.09 MiB/65.47 MiB         \u001b[1A\n",
      "\u001b[2K\u001b[1A\u001b[37m⠧\u001b[0m \u001b[2mPreparing packages...\u001b[0m (3/4)--------------\u001b[0m\u001b[0m 13.26 MiB/65.47 MiB         \u001b[1A\n",
      "\u001b[2K\u001b[1A\u001b[37m⠧\u001b[0m \u001b[2mPreparing packages...\u001b[0m (3/4)--------------\u001b[0m\u001b[0m 13.50 MiB/65.47 MiB         \u001b[1A\n",
      "\u001b[2K\u001b[1A\u001b[37m⠧\u001b[0m \u001b[2mPreparing packages...\u001b[0m (3/4)--------------\u001b[0m\u001b[0m 14.11 MiB/65.47 MiB         \u001b[1A\n",
      "\u001b[2K\u001b[1A\u001b[37m⠧\u001b[0m \u001b[2mPreparing packages...\u001b[0m (3/4)--------------\u001b[0m\u001b[0m 14.45 MiB/65.47 MiB         \u001b[1A\n",
      "\u001b[2K\u001b[1A\u001b[37m⠧\u001b[0m \u001b[2mPreparing packages...\u001b[0m (3/4)--------------\u001b[0m\u001b[0m 14.84 MiB/65.47 MiB         \u001b[1A\n",
      "\u001b[2K\u001b[1A\u001b[37m⠇\u001b[0m \u001b[2mPreparing packages...\u001b[0m (3/4)--------------\u001b[0m\u001b[0m 15.23 MiB/65.47 MiB         \u001b[1A\n",
      "\u001b[2K\u001b[1A\u001b[37m⠇\u001b[0m \u001b[2mPreparing packages...\u001b[0m (3/4)--------------\u001b[0m\u001b[0m 17.40 MiB/65.47 MiB         \u001b[1A\n",
      "\u001b[2K\u001b[1A\u001b[37m⠇\u001b[0m \u001b[2mPreparing packages...\u001b[0m (3/4)--------------\u001b[0m\u001b[0m 18.84 MiB/65.47 MiB         \u001b[1A\n",
      "\u001b[2K\u001b[1A\u001b[37m⠇\u001b[0m \u001b[2mPreparing packages...\u001b[0m (3/4)--------------\u001b[0m\u001b[0m 19.89 MiB/65.47 MiB         \u001b[1A\n",
      "\u001b[2K\u001b[1A\u001b[37m⠋\u001b[0m \u001b[2mPreparing packages...\u001b[0m (3/4)--------------\u001b[0m\u001b[0m 21.03 MiB/65.47 MiB         \u001b[1A\n",
      "\u001b[2K\u001b[1A\u001b[37m⠋\u001b[0m \u001b[2mPreparing packages...\u001b[0m (3/4)--------------\u001b[0m\u001b[0m 21.95 MiB/65.47 MiB         \u001b[1A\n",
      "\u001b[2K\u001b[1A\u001b[37m⠋\u001b[0m \u001b[2mPreparing packages...\u001b[0m (3/4)--------------\u001b[0m\u001b[0m 23.50 MiB/65.47 MiB         \u001b[1A\n",
      "\u001b[2K\u001b[1A\u001b[37m⠋\u001b[0m \u001b[2mPreparing packages...\u001b[0m (3/4)--------------\u001b[0m\u001b[0m 24.81 MiB/65.47 MiB         \u001b[1A\n",
      "\u001b[2K\u001b[1A\u001b[37m⠙\u001b[0m \u001b[2mPreparing packages...\u001b[0m (3/4)--------------\u001b[0m\u001b[0m 25.93 MiB/65.47 MiB         \u001b[1A\n",
      "\u001b[2K\u001b[1A\u001b[37m⠙\u001b[0m \u001b[2mPreparing packages...\u001b[0m (3/4)--------------\u001b[0m\u001b[0m 26.53 MiB/65.47 MiB         \u001b[1A\n",
      "\u001b[2K\u001b[1A\u001b[37m⠙\u001b[0m \u001b[2mPreparing packages...\u001b[0m (3/4)--------------\u001b[0m\u001b[0m 27.95 MiB/65.47 MiB         \u001b[1A\n",
      "\u001b[2K\u001b[1A\u001b[37m⠙\u001b[0m \u001b[2mPreparing packages...\u001b[0m (3/4)--------------\u001b[0m\u001b[0m 29.03 MiB/65.47 MiB         \u001b[1A\n",
      "\u001b[2K\u001b[1A\u001b[37m⠹\u001b[0m \u001b[2mPreparing packages...\u001b[0m (3/4)--------------\u001b[0m\u001b[0m 30.06 MiB/65.47 MiB         \u001b[1A\n",
      "\u001b[2K\u001b[1A\u001b[37m⠹\u001b[0m \u001b[2mPreparing packages...\u001b[0m (3/4)--------------\u001b[0m\u001b[0m 31.45 MiB/65.47 MiB         \u001b[1A\n",
      "\u001b[2K\u001b[1A\u001b[37m⠹\u001b[0m \u001b[2mPreparing packages...\u001b[0m (3/4)--------------\u001b[0m\u001b[0m 32.09 MiB/65.47 MiB         \u001b[1A\n",
      "\u001b[2K\u001b[1A\u001b[37m⠹\u001b[0m \u001b[2mPreparing packages...\u001b[0m (3/4)--------------\u001b[0m\u001b[0m 32.22 MiB/65.47 MiB         \u001b[1A\n",
      "\u001b[2K\u001b[1A\u001b[37m⠸\u001b[0m \u001b[2mPreparing packages...\u001b[0m (3/4)--------------\u001b[0m\u001b[0m 33.48 MiB/65.47 MiB         \u001b[1A\n",
      "\u001b[2K\u001b[1A\u001b[37m⠸\u001b[0m \u001b[2mPreparing packages...\u001b[0m (3/4)--------------\u001b[0m\u001b[0m 34.80 MiB/65.47 MiB         \u001b[1A\n",
      "\u001b[2K\u001b[1A\u001b[37m⠸\u001b[0m \u001b[2mPreparing packages...\u001b[0m (3/4)m-------------\u001b[0m\u001b[0m 35.69 MiB/65.47 MiB         \u001b[1A\n",
      "\u001b[2K\u001b[1A\u001b[37m⠸\u001b[0m \u001b[2mPreparing packages...\u001b[0m (3/4)m-------------\u001b[0m\u001b[0m 36.84 MiB/65.47 MiB         \u001b[1A\n",
      "\u001b[2K\u001b[1A\u001b[37m⠼\u001b[0m \u001b[2mPreparing packages...\u001b[0m (3/4)2m------------\u001b[0m\u001b[0m 37.76 MiB/65.47 MiB         \u001b[1A\n",
      "\u001b[2K\u001b[1A\u001b[37m⠼\u001b[0m \u001b[2mPreparing packages...\u001b[0m (3/4)2m------------\u001b[0m\u001b[0m 39.00 MiB/65.47 MiB         \u001b[1A\n",
      "\u001b[2K\u001b[1A\u001b[37m⠼\u001b[0m \u001b[2mPreparing packages...\u001b[0m (3/4)[2m-----------\u001b[0m\u001b[0m 40.34 MiB/65.47 MiB         \u001b[1A\n",
      "\u001b[2K\u001b[1A\u001b[37m⠼\u001b[0m \u001b[2mPreparing packages...\u001b[0m (3/4)\u001b[2m----------\u001b[0m\u001b[0m 41.66 MiB/65.47 MiB         \u001b[1A\n",
      "\u001b[2K\u001b[1A\u001b[37m⠴\u001b[0m \u001b[2mPreparing packages...\u001b[0m (3/4)\u001b[2m----------\u001b[0m\u001b[0m 43.02 MiB/65.47 MiB         \u001b[1A\n",
      "\u001b[2K\u001b[1A\u001b[37m⠴\u001b[0m \u001b[2mPreparing packages...\u001b[0m (3/4)-\u001b[2m---------\u001b[0m\u001b[0m 44.07 MiB/65.47 MiB         \u001b[1A\n",
      "\u001b[2K\u001b[1A\u001b[37m⠴\u001b[0m \u001b[2mPreparing packages...\u001b[0m (3/4)-\u001b[2m---------\u001b[0m\u001b[0m 45.16 MiB/65.47 MiB         \u001b[1A\n",
      "\u001b[2K\u001b[1A\u001b[37m⠴\u001b[0m \u001b[2mPreparing packages...\u001b[0m (3/4)-\u001b[2m---------\u001b[0m\u001b[0m 45.52 MiB/65.47 MiB         \u001b[1A\n",
      "\u001b[2K\u001b[1A\u001b[37m⠦\u001b[0m \u001b[2mPreparing packages...\u001b[0m (3/4)--\u001b[2m--------\u001b[0m\u001b[0m 45.87 MiB/65.47 MiB         \u001b[1A\n",
      "\u001b[2K\u001b[1A\u001b[37m⠦\u001b[0m \u001b[2mPreparing packages...\u001b[0m (3/4)--\u001b[2m--------\u001b[0m\u001b[0m 47.36 MiB/65.47 MiB         \u001b[1A\n",
      "\u001b[2K\u001b[1A\u001b[37m⠦\u001b[0m \u001b[2mPreparing packages...\u001b[0m (3/4)---\u001b[2m-------\u001b[0m\u001b[0m 48.79 MiB/65.47 MiB         \u001b[1A\n",
      "\u001b[2K\u001b[1A\u001b[37m⠦\u001b[0m \u001b[2mPreparing packages...\u001b[0m (3/4)---\u001b[2m-------\u001b[0m\u001b[0m 49.81 MiB/65.47 MiB         \u001b[1A\n",
      "\u001b[2K\u001b[1A\u001b[37m⠧\u001b[0m \u001b[2mPreparing packages...\u001b[0m (3/4)----\u001b[2m------\u001b[0m\u001b[0m 51.06 MiB/65.47 MiB         \u001b[1A\n",
      "\u001b[2K\u001b[1A\u001b[37m⠧\u001b[0m \u001b[2mPreparing packages...\u001b[0m (3/4)----\u001b[2m------\u001b[0m\u001b[0m 52.22 MiB/65.47 MiB         \u001b[1A\n",
      "\u001b[2K\u001b[1A\u001b[37m⠧\u001b[0m \u001b[2mPreparing packages...\u001b[0m (3/4)-----\u001b[2m-----\u001b[0m\u001b[0m 53.17 MiB/65.47 MiB         \u001b[1A\n",
      "\u001b[2K\u001b[1A\u001b[37m⠧\u001b[0m \u001b[2mPreparing packages...\u001b[0m (3/4)-----\u001b[2m-----\u001b[0m\u001b[0m 53.94 MiB/65.47 MiB         \u001b[1A\n",
      "\u001b[2K\u001b[1A\u001b[37m⠇\u001b[0m \u001b[2mPreparing packages...\u001b[0m (3/4)------\u001b[2m----\u001b[0m\u001b[0m 55.08 MiB/65.47 MiB         \u001b[1A\n",
      "\u001b[2K\u001b[1A\u001b[37m⠇\u001b[0m \u001b[2mPreparing packages...\u001b[0m (3/4)------\u001b[2m----\u001b[0m\u001b[0m 56.17 MiB/65.47 MiB         \u001b[1A\n",
      "\u001b[2K\u001b[1A\u001b[37m⠇\u001b[0m \u001b[2mPreparing packages...\u001b[0m (3/4)-------\u001b[2m---\u001b[0m\u001b[0m 57.59 MiB/65.47 MiB         \u001b[1A\n",
      "\u001b[2K\u001b[1A\u001b[37m⠇\u001b[0m \u001b[2mPreparing packages...\u001b[0m (3/4)--------\u001b[2m--\u001b[0m\u001b[0m 59.22 MiB/65.47 MiB         \u001b[1A\n",
      "\u001b[2K\u001b[1A\u001b[37m⠋\u001b[0m \u001b[2mPreparing packages...\u001b[0m (3/4)--------\u001b[2m--\u001b[0m\u001b[0m 60.40 MiB/65.47 MiB         \u001b[1A\n",
      "\u001b[2K\u001b[1A\u001b[37m⠋\u001b[0m \u001b[2mPreparing packages...\u001b[0m (3/4)---------\u001b[2m-\u001b[0m\u001b[0m 61.30 MiB/65.47 MiB         \u001b[1A\n",
      "\u001b[2K\u001b[1A\u001b[37m⠋\u001b[0m \u001b[2mPreparing packages...\u001b[0m (3/4)---------\u001b[2m-\u001b[0m\u001b[0m 61.67 MiB/65.47 MiB         \u001b[1A\n",
      "\u001b[2K\u001b[1A\u001b[37m⠋\u001b[0m \u001b[2mPreparing packages...\u001b[0m (3/4)---------\u001b[2m-\u001b[0m\u001b[0m 62.22 MiB/65.47 MiB         \u001b[1A\n",
      "\u001b[2K\u001b[1A\u001b[37m⠙\u001b[0m \u001b[2mPreparing packages...\u001b[0m (3/4)---------\u001b[2m-\u001b[0m\u001b[0m 63.02 MiB/65.47 MiB         \u001b[1A\n",
      "\u001b[2K\u001b[1A\u001b[37m⠙\u001b[0m \u001b[2mPreparing packages...\u001b[0m (3/4)----------\u001b[2m\u001b[0m\u001b[0m 63.75 MiB/65.47 MiB         \u001b[1A\n",
      "\u001b[2K\u001b[2mPrepared \u001b[1m4 packages\u001b[0m \u001b[2min 5.55s\u001b[0m\u001b[0m                                                 \u001b[1A\n",
      "\u001b[2K\u001b[2mInstalled \u001b[1m4 packages\u001b[0m \u001b[2min 289ms\u001b[0m\u001b[0m                               \u001b[0m\n",
      " \u001b[32m+\u001b[39m \u001b[1mmpmath\u001b[0m\u001b[2m==1.3.0\u001b[0m\n",
      " \u001b[32m+\u001b[39m \u001b[1mnetworkx\u001b[0m\u001b[2m==3.5\u001b[0m\n",
      " \u001b[32m+\u001b[39m \u001b[1msympy\u001b[0m\u001b[2m==1.14.0\u001b[0m\n",
      " \u001b[32m+\u001b[39m \u001b[1mtorch\u001b[0m\u001b[2m==2.7.1\u001b[0m\n"
     ]
    }
   ],
   "source": [
    "!uv pip install torch"
   ]
  },
  {
   "cell_type": "code",
   "execution_count": 3,
   "metadata": {},
   "outputs": [],
   "source": [
    "import torch"
   ]
  },
  {
   "cell_type": "code",
   "execution_count": 4,
   "metadata": {},
   "outputs": [],
   "source": [
    "x=torch.tensor(3.0, requires_grad=True)"
   ]
  },
  {
   "cell_type": "code",
   "execution_count": 5,
   "metadata": {},
   "outputs": [
    {
     "data": {
      "text/plain": [
       "tensor(3., requires_grad=True)"
      ]
     },
     "execution_count": 5,
     "metadata": {},
     "output_type": "execute_result"
    }
   ],
   "source": [
    "x"
   ]
  },
  {
   "cell_type": "code",
   "execution_count": 6,
   "metadata": {},
   "outputs": [],
   "source": [
    "y=x**2"
   ]
  },
  {
   "cell_type": "code",
   "execution_count": 7,
   "metadata": {},
   "outputs": [
    {
     "data": {
      "text/plain": [
       "tensor(9., grad_fn=<PowBackward0>)"
      ]
     },
     "execution_count": 7,
     "metadata": {},
     "output_type": "execute_result"
    }
   ],
   "source": [
    "y"
   ]
  },
  {
   "cell_type": "code",
   "execution_count": 10,
   "metadata": {},
   "outputs": [],
   "source": [
    "y.backward()"
   ]
  },
  {
   "cell_type": "code",
   "execution_count": 12,
   "metadata": {},
   "outputs": [
    {
     "data": {
      "text/plain": [
       "tensor(6.)"
      ]
     },
     "execution_count": 12,
     "metadata": {},
     "output_type": "execute_result"
    }
   ],
   "source": [
    "x.grad"
   ]
  },
  {
   "cell_type": "code",
   "execution_count": 13,
   "metadata": {},
   "outputs": [],
   "source": [
    "x=torch.tensor(3.0,requires_grad=True)"
   ]
  },
  {
   "cell_type": "code",
   "execution_count": 14,
   "metadata": {},
   "outputs": [],
   "source": [
    "y = x ** 2"
   ]
  },
  {
   "cell_type": "code",
   "execution_count": 15,
   "metadata": {},
   "outputs": [],
   "source": [
    "z=torch.sin(y)"
   ]
  },
  {
   "cell_type": "code",
   "execution_count": 16,
   "metadata": {},
   "outputs": [
    {
     "data": {
      "text/plain": [
       "tensor(9., grad_fn=<PowBackward0>)"
      ]
     },
     "execution_count": 16,
     "metadata": {},
     "output_type": "execute_result"
    }
   ],
   "source": [
    "y"
   ]
  },
  {
   "cell_type": "code",
   "execution_count": 17,
   "metadata": {},
   "outputs": [
    {
     "data": {
      "text/plain": [
       "tensor(0.4121, grad_fn=<SinBackward0>)"
      ]
     },
     "execution_count": 17,
     "metadata": {},
     "output_type": "execute_result"
    }
   ],
   "source": [
    "z"
   ]
  },
  {
   "cell_type": "code",
   "execution_count": 21,
   "metadata": {},
   "outputs": [
    {
     "data": {
      "text/plain": [
       "<bound method Tensor.backward of tensor(0.4121, grad_fn=<SinBackward0>)>"
      ]
     },
     "execution_count": 21,
     "metadata": {},
     "output_type": "execute_result"
    }
   ],
   "source": [
    "z.backward"
   ]
  },
  {
   "cell_type": "code",
   "execution_count": 22,
   "metadata": {},
   "outputs": [
    {
     "data": {
      "text/plain": [
       "tensor(-5.4668)"
      ]
     },
     "execution_count": 22,
     "metadata": {},
     "output_type": "execute_result"
    }
   ],
   "source": [
    "x.grad"
   ]
  },
  {
   "cell_type": "code",
   "execution_count": 25,
   "metadata": {},
   "outputs": [
    {
     "ename": "RuntimeError",
     "evalue": "Trying to backward through the graph a second time (or directly access saved tensors after they have already been freed). Saved intermediate values of the graph are freed when you call .backward() or autograd.grad(). Specify retain_graph=True if you need to backward through the graph a second time or if you need to access saved tensors after calling backward.",
     "output_type": "error",
     "traceback": [
      "\u001b[31m---------------------------------------------------------------------------\u001b[39m",
      "\u001b[31mRuntimeError\u001b[39m                              Traceback (most recent call last)",
      "\u001b[36mCell\u001b[39m\u001b[36m \u001b[39m\u001b[32mIn[25]\u001b[39m\u001b[32m, line 1\u001b[39m\n\u001b[32m----> \u001b[39m\u001b[32m1\u001b[39m \u001b[43my\u001b[49m\u001b[43m.\u001b[49m\u001b[43mbackward\u001b[49m\u001b[43m(\u001b[49m\u001b[43m)\u001b[49m\n",
      "\u001b[36mFile \u001b[39m\u001b[32m~/Projects/ai/agents/.venv/lib/python3.12/site-packages/torch/_tensor.py:648\u001b[39m, in \u001b[36mTensor.backward\u001b[39m\u001b[34m(self, gradient, retain_graph, create_graph, inputs)\u001b[39m\n\u001b[32m    638\u001b[39m \u001b[38;5;28;01mif\u001b[39;00m has_torch_function_unary(\u001b[38;5;28mself\u001b[39m):\n\u001b[32m    639\u001b[39m     \u001b[38;5;28;01mreturn\u001b[39;00m handle_torch_function(\n\u001b[32m    640\u001b[39m         Tensor.backward,\n\u001b[32m    641\u001b[39m         (\u001b[38;5;28mself\u001b[39m,),\n\u001b[32m   (...)\u001b[39m\u001b[32m    646\u001b[39m         inputs=inputs,\n\u001b[32m    647\u001b[39m     )\n\u001b[32m--> \u001b[39m\u001b[32m648\u001b[39m \u001b[43mtorch\u001b[49m\u001b[43m.\u001b[49m\u001b[43mautograd\u001b[49m\u001b[43m.\u001b[49m\u001b[43mbackward\u001b[49m\u001b[43m(\u001b[49m\n\u001b[32m    649\u001b[39m \u001b[43m    \u001b[49m\u001b[38;5;28;43mself\u001b[39;49m\u001b[43m,\u001b[49m\u001b[43m \u001b[49m\u001b[43mgradient\u001b[49m\u001b[43m,\u001b[49m\u001b[43m \u001b[49m\u001b[43mretain_graph\u001b[49m\u001b[43m,\u001b[49m\u001b[43m \u001b[49m\u001b[43mcreate_graph\u001b[49m\u001b[43m,\u001b[49m\u001b[43m \u001b[49m\u001b[43minputs\u001b[49m\u001b[43m=\u001b[49m\u001b[43minputs\u001b[49m\n\u001b[32m    650\u001b[39m \u001b[43m\u001b[49m\u001b[43m)\u001b[49m\n",
      "\u001b[36mFile \u001b[39m\u001b[32m~/Projects/ai/agents/.venv/lib/python3.12/site-packages/torch/autograd/__init__.py:353\u001b[39m, in \u001b[36mbackward\u001b[39m\u001b[34m(tensors, grad_tensors, retain_graph, create_graph, grad_variables, inputs)\u001b[39m\n\u001b[32m    348\u001b[39m     retain_graph = create_graph\n\u001b[32m    350\u001b[39m \u001b[38;5;66;03m# The reason we repeat the same comment below is that\u001b[39;00m\n\u001b[32m    351\u001b[39m \u001b[38;5;66;03m# some Python versions print out the first line of a multi-line function\u001b[39;00m\n\u001b[32m    352\u001b[39m \u001b[38;5;66;03m# calls in the traceback and some print out the last line\u001b[39;00m\n\u001b[32m--> \u001b[39m\u001b[32m353\u001b[39m \u001b[43m_engine_run_backward\u001b[49m\u001b[43m(\u001b[49m\n\u001b[32m    354\u001b[39m \u001b[43m    \u001b[49m\u001b[43mtensors\u001b[49m\u001b[43m,\u001b[49m\n\u001b[32m    355\u001b[39m \u001b[43m    \u001b[49m\u001b[43mgrad_tensors_\u001b[49m\u001b[43m,\u001b[49m\n\u001b[32m    356\u001b[39m \u001b[43m    \u001b[49m\u001b[43mretain_graph\u001b[49m\u001b[43m,\u001b[49m\n\u001b[32m    357\u001b[39m \u001b[43m    \u001b[49m\u001b[43mcreate_graph\u001b[49m\u001b[43m,\u001b[49m\n\u001b[32m    358\u001b[39m \u001b[43m    \u001b[49m\u001b[43minputs\u001b[49m\u001b[43m,\u001b[49m\n\u001b[32m    359\u001b[39m \u001b[43m    \u001b[49m\u001b[43mallow_unreachable\u001b[49m\u001b[43m=\u001b[49m\u001b[38;5;28;43;01mTrue\u001b[39;49;00m\u001b[43m,\u001b[49m\n\u001b[32m    360\u001b[39m \u001b[43m    \u001b[49m\u001b[43maccumulate_grad\u001b[49m\u001b[43m=\u001b[49m\u001b[38;5;28;43;01mTrue\u001b[39;49;00m\u001b[43m,\u001b[49m\n\u001b[32m    361\u001b[39m \u001b[43m\u001b[49m\u001b[43m)\u001b[49m\n",
      "\u001b[36mFile \u001b[39m\u001b[32m~/Projects/ai/agents/.venv/lib/python3.12/site-packages/torch/autograd/graph.py:824\u001b[39m, in \u001b[36m_engine_run_backward\u001b[39m\u001b[34m(t_outputs, *args, **kwargs)\u001b[39m\n\u001b[32m    822\u001b[39m     unregister_hooks = _register_logging_hooks_on_whole_graph(t_outputs)\n\u001b[32m    823\u001b[39m \u001b[38;5;28;01mtry\u001b[39;00m:\n\u001b[32m--> \u001b[39m\u001b[32m824\u001b[39m     \u001b[38;5;28;01mreturn\u001b[39;00m \u001b[43mVariable\u001b[49m\u001b[43m.\u001b[49m\u001b[43m_execution_engine\u001b[49m\u001b[43m.\u001b[49m\u001b[43mrun_backward\u001b[49m\u001b[43m(\u001b[49m\u001b[43m  \u001b[49m\u001b[38;5;66;43;03m# Calls into the C++ engine to run the backward pass\u001b[39;49;00m\n\u001b[32m    825\u001b[39m \u001b[43m        \u001b[49m\u001b[43mt_outputs\u001b[49m\u001b[43m,\u001b[49m\u001b[43m \u001b[49m\u001b[43m*\u001b[49m\u001b[43margs\u001b[49m\u001b[43m,\u001b[49m\u001b[43m \u001b[49m\u001b[43m*\u001b[49m\u001b[43m*\u001b[49m\u001b[43mkwargs\u001b[49m\n\u001b[32m    826\u001b[39m \u001b[43m    \u001b[49m\u001b[43m)\u001b[49m  \u001b[38;5;66;03m# Calls into the C++ engine to run the backward pass\u001b[39;00m\n\u001b[32m    827\u001b[39m \u001b[38;5;28;01mfinally\u001b[39;00m:\n\u001b[32m    828\u001b[39m     \u001b[38;5;28;01mif\u001b[39;00m attach_logging_hooks:\n",
      "\u001b[31mRuntimeError\u001b[39m: Trying to backward through the graph a second time (or directly access saved tensors after they have already been freed). Saved intermediate values of the graph are freed when you call .backward() or autograd.grad(). Specify retain_graph=True if you need to backward through the graph a second time or if you need to access saved tensors after calling backward."
     ]
    }
   ],
   "source": [
    "y.backward()"
   ]
  },
  {
   "cell_type": "code",
   "execution_count": 24,
   "metadata": {},
   "outputs": [
    {
     "data": {
      "text/plain": [
       "tensor(-5.4668)"
      ]
     },
     "execution_count": 24,
     "metadata": {},
     "output_type": "execute_result"
    }
   ],
   "source": [
    "x.grad"
   ]
  },
  {
   "cell_type": "markdown",
   "metadata": {},
   "source": [
    "First Derivative\n",
    "$$\n",
    "\\frac{d\\mathcal{L}}{dw} = \\frac{d\\mathcal{L}}{d\\hat{y}} \\cdot \\frac{d\\hat{y}}{dz} \\cdot \\frac{dz}{dw}\n",
    "$$\n",
    "Linear Transformation:\n",
    "$$ z=wX+b $$\n",
    "Activation (Sigmoid fn):\n",
    "$$\\hat{y} = \\sigma(wX + b) = \\frac{1}{1 + e^{-(wX + b)}}$$\n",
    "Loss fn:\n",
    "$$Loss = \\hat{y}-y$$\n",
    "Second Derivative\n",
    "$$\n",
    "\\frac{d\\mathcal{L}}{db} = \\frac{d\\mathcal{L}}{d\\hat{y}} \\cdot \\frac{d\\hat{y}}{dz} \\cdot \\frac{dz}{db}\n",
    "$$"
   ]
  },
  {
   "cell_type": "markdown",
   "metadata": {},
   "source": [
    "Gradients - \n",
    "$$\n",
    "\\frac{d\\mathcal{L}}{dw} = (y^* - y) \\cdot x\n",
    "$$\n",
    "\n",
    "$$\n",
    "\\frac{d\\mathcal{L}}{db} = y^* - y\n",
    "$$"
   ]
  },
  {
   "cell_type": "code",
   "execution_count": 34,
   "metadata": {},
   "outputs": [],
   "source": [
    "x = torch.tensor(6.7)\n",
    "y = torch.tensor(0.0)\n",
    "w = torch.tensor(1.0, requires_grad=True)\n",
    "b = torch.tensor(0.0, requires_grad=True)"
   ]
  },
  {
   "cell_type": "code",
   "execution_count": 39,
   "metadata": {},
   "outputs": [],
   "source": [
    "z = w*x+b"
   ]
  },
  {
   "cell_type": "code",
   "execution_count": 40,
   "metadata": {},
   "outputs": [],
   "source": [
    "y_pred=torch.sigmoid(z)"
   ]
  },
  {
   "cell_type": "code",
   "execution_count": 41,
   "metadata": {},
   "outputs": [
    {
     "data": {
      "text/plain": [
       "tensor(0.9988, grad_fn=<SigmoidBackward0>)"
      ]
     },
     "execution_count": 41,
     "metadata": {},
     "output_type": "execute_result"
    }
   ],
   "source": [
    "y_pred"
   ]
  },
  {
   "cell_type": "code",
   "execution_count": 42,
   "metadata": {},
   "outputs": [],
   "source": [
    "def binary_cross_entropy_loss(prediction, target):\n",
    "    epsilon = 1e-8\n",
    "    prediction = torch.clamp(prediction, epsilon, 1-epsilon)\n",
    "    return -(target * torch.log(prediction) + (1 - target) * torch.log(1-prediction))"
   ]
  },
  {
   "cell_type": "code",
   "execution_count": 43,
   "metadata": {},
   "outputs": [],
   "source": [
    "loss = binary_cross_entropy_loss(y_pred, y)"
   ]
  },
  {
   "cell_type": "code",
   "execution_count": 44,
   "metadata": {},
   "outputs": [
    {
     "data": {
      "text/plain": [
       "tensor(6.7012, grad_fn=<NegBackward0>)"
      ]
     },
     "execution_count": 44,
     "metadata": {},
     "output_type": "execute_result"
    }
   ],
   "source": [
    "loss"
   ]
  },
  {
   "cell_type": "code",
   "execution_count": 45,
   "metadata": {},
   "outputs": [],
   "source": [
    "loss.backward()"
   ]
  },
  {
   "cell_type": "code",
   "execution_count": 47,
   "metadata": {},
   "outputs": [
    {
     "name": "stdout",
     "output_type": "stream",
     "text": [
      "tensor(6.6918)\n",
      "tensor(0.9988)\n"
     ]
    }
   ],
   "source": [
    "print(w.grad)\n",
    "print(b.grad)"
   ]
  },
  {
   "cell_type": "code",
   "execution_count": null,
   "metadata": {},
   "outputs": [],
   "source": []
  }
 ],
 "metadata": {
  "kernelspec": {
   "display_name": ".venv",
   "language": "python",
   "name": "python3"
  },
  "language_info": {
   "codemirror_mode": {
    "name": "ipython",
    "version": 3
   },
   "file_extension": ".py",
   "mimetype": "text/x-python",
   "name": "python",
   "nbconvert_exporter": "python",
   "pygments_lexer": "ipython3",
   "version": "3.12.3"
  }
 },
 "nbformat": 4,
 "nbformat_minor": 2
}
