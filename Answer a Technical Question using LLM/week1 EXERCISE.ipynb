{
 "cells": [
  {
   "cell_type": "markdown",
   "id": "fe12c203-e6a6-452c-a655-afb8a03a4ff5",
   "metadata": {},
   "source": [
    "# End of week 1 exercise\n",
    "\n",
    "To demonstrate your familiarity with OpenAI API, and also Ollama, build a tool that takes a technical question,  \n",
    "and responds with an explanation. This is a tool that you will be able to use yourself during the course!"
   ]
  },
  {
   "cell_type": "code",
   "execution_count": 80,
   "id": "c1070317-3ed9-4659-abe3-828943230e03",
   "metadata": {},
   "outputs": [],
   "source": [
    "# imports\n",
    "from openai import OpenAI\n",
    "from dotenv import load_dotenv\n",
    "import os\n",
    "from IPython.display import Markdown, display"
   ]
  },
  {
   "cell_type": "code",
   "execution_count": 24,
   "id": "4a456906-915a-4bfd-bb9d-57e505c5093f",
   "metadata": {},
   "outputs": [],
   "source": [
    "# constants\n",
    "\n",
    "MODEL_GPT = 'gpt-4o-mini'\n",
    "MODEL_LLAMA = 'llama3.2'"
   ]
  },
  {
   "cell_type": "code",
   "execution_count": 32,
   "id": "a8d7923c-5f28-4c30-8556-342d7c8497c1",
   "metadata": {},
   "outputs": [],
   "source": [
    "# set up environment\n",
    "load_dotenv(override=True)\n",
    "\n",
    "OPENAI_API_KEY = os.getenv(\"OPENAI_API_KEY\")"
   ]
  },
  {
   "cell_type": "code",
   "execution_count": 47,
   "id": "3f0d0137-52b0-47a8-81a8-11a90a010798",
   "metadata": {},
   "outputs": [],
   "source": [
    "# here is the question; type over this to ask something new\n",
    "\n",
    "system_prompt=\"You need to answer the technical questions to a 10 year old\"\n",
    "\n",
    "question = \"\"\"\n",
    "Please explain what this code does and why:\n",
    "yield from {book.get(\"author\") for book in books if book.get(\"author\")}\n",
    "\"\"\"\n",
    "\n",
    "messages=[{\"role\":\"system\", \"content\":system_prompt},\n",
    "          {'role':\"user\", \"content\":question}]"
   ]
  },
  {
   "cell_type": "code",
   "execution_count": 36,
   "id": "e7c20417",
   "metadata": {},
   "outputs": [],
   "source": [
    "openai=OpenAI()"
   ]
  },
  {
   "cell_type": "code",
   "execution_count": 85,
   "id": "60ce7000-a4a5-4cce-a261-e75ef45063b4",
   "metadata": {},
   "outputs": [],
   "source": [
    "# Get gpt-4o-mini to answer, with streaming\n",
    "response=openai.chat.completions.create(messages=messages, model=\"gpt-4.1-mini\")"
   ]
  },
  {
   "cell_type": "code",
   "execution_count": 82,
   "id": "fe53a7b0",
   "metadata": {},
   "outputs": [],
   "source": [
    "chunk=[]\n",
    "response2=response"
   ]
  },
  {
   "cell_type": "code",
   "execution_count": 83,
   "id": "fedcd964",
   "metadata": {},
   "outputs": [
    {
     "name": "stdout",
     "output_type": "stream",
     "text": [
      "Alright! Imagine you have a big box of books, and each book might have an author written on it. This little piece of code is trying to do two things:\n",
      "\n",
      "1. **Find all the authors:** It looks at each book in the box (that’s what `for book in books` does), then it checks if the book actually has an author written on it (`if book.get(\"author\")`). If yes, it grabs that author's name.\n",
      "\n",
      "2. **Make a special list with no repeats:** The `{ ... }` around it means it collects all these authors into a set, which is like a special list that only keeps one copy if an author shows up more than once.\n",
      "\n",
      "3. **Give out the authors one by one:** The `yield from` part is like saying, \"I’m going to give you the authors one at a time when you ask for them.\"\n",
      "\n",
      "So overall, this code takes all the author names from the books, makes sure each name is only once, and then shares them one by one with whoever wants to see them.\n",
      "\n",
      "Does that make sense?None"
     ]
    }
   ],
   "source": [
    "for chunk in response2:\n",
    "    print(chunk.choices[0].delta.content, end=\"\")"
   ]
  },
  {
   "cell_type": "code",
   "execution_count": 87,
   "id": "0d686114",
   "metadata": {},
   "outputs": [
    {
     "data": {
      "text/markdown": [
       "Sure! Imagine you have a box full of books, and each book might have an author written inside. This code is like someone going through the box, picking out the names of the authors from each book, but only if the author’s name is actually there.\n",
       "\n",
       "Here’s what the code does step-by-step:\n",
       "\n",
       "1. **books**: This is the box full of books.\n",
       "2. **book.get(\"author\")**: For each book, this tries to find the author’s name.\n",
       "3. **if book.get(\"author\")**: It only picks the author’s name if the author is there (not empty or missing).\n",
       "4. **{...}**: The curly braces make a set, which is like a special collection where each author's name appears only once, no repeats.\n",
       "5. **yield from**: This means \"send out\" or \"give\" each author’s name one by one to whoever is asking.\n",
       "\n",
       "So, in simple words, this code looks through the books, finds all the different authors, and sends their names out one at a time, but with no repeats.\n",
       "\n",
       "Does that make sense?"
      ],
      "text/plain": [
       "<IPython.core.display.Markdown object>"
      ]
     },
     "metadata": {},
     "output_type": "display_data"
    }
   ],
   "source": [
    "display(Markdown(response.choices[0].message.content))"
   ]
  },
  {
   "cell_type": "code",
   "execution_count": 91,
   "id": "8f7c8ea8-4082-4ad0-8751-3301adcf6538",
   "metadata": {},
   "outputs": [],
   "source": [
    "# Get Llama 3.2 to answer\n",
    "openai_for_ollama=OpenAI(base_url=\"http://localhost:11434/v1\",api_key=\"ollama\")\n",
    "response=openai_for_ollama.chat.completions.create(model=MODEL_LLAMA, messages=[{\"role\":\"user\", \"content\":question}])"
   ]
  },
  {
   "cell_type": "code",
   "execution_count": 94,
   "id": "dcc06a55",
   "metadata": {},
   "outputs": [
    {
     "name": "stdout",
     "output_type": "stream",
     "text": [
      "This line of code is using a feature of Python called generator expressions to extract the authors of books from a list of dictionaries.\n",
      "\n",
      "Here's what it does:\n",
      "\n",
      "1. `{book.get(\"author\") for book in books if book.get(\"author\")}`: This part is a generator expression that iterates over each `book` in the `books` list and returns its author.\n",
      "   - `.get(\"author\")` tries to get the value of `\"author\"` from the current `book`. If `\"author\"` is found, it returns this value; otherwise, it returns `None`.\n",
      "\n",
      "2. `yield from ...` : The outer syntax (`yield from`) combines multiple generator expressions into a single one. Instead of yielding each value inside a for loop, or by calling another function to get its values, the function generates and iterates over them using `yield` statements.\n",
      "\n",
      "3., `...` : It effectively \"passes-on\" all returned values by it so this line essentially says that we want every author book yields from one another. \n",
      "\n",
      "Therefore, putting these two together:\n",
      "\n",
      "`yield from {book.get(\"author\") for book in books if book.get(\"author\")}` uses a generator expression to generate the list of authors from the `books` list, but instead of just yielding all values at once (which can be inefficient with large lists), it does so one by one from each subsequent generators (i.e., the next author in the list).\n",
      "\n",
      "This is often used when sorting things - if you do have a list and want to sort this for a specific property without sorting everything around it (like other properties). \n",
      "\n",
      "Here's an example:\n",
      "\n",
      "Suppose we have the following books list:\n",
      "```python\n",
      "books = [\n",
      "    {\"title\": \"Harry Potter\", \"author\": \"J.K. Rowling\"},\n",
      "    {\"title\": \"Lord of Rings\", \"author\": \"J.R.R. Tolkien\"},\n",
      "    {\"title\": \"Star Wars\", \"booked\": False},\n",
      "]\n",
      "```\n",
      "\n",
      "Now, let's use the code snippet to yield just all authors but in a nested way:\n",
      "\n",
      "```python\n",
      "def get_authors(books):\n",
      "    for book in books:\n",
      "        yield from {author.get(\"name\") for author in book.get(\"authors\") if author.get(\"name\")}\n",
      "        \n",
      "# usage\n",
      "for i, author in enumerate(get_authors({{\"title\": \"Harry Potter\", \"booked\": False}\" ,  {\"value\" : 'a'}}), start=1):\n",
      "    print(f'Book: {i}, Author': author)\n",
      "```\n",
      "\n",
      "So even here `get_authors()` function returns the names but from within each books, in a nested way. You can think of this line as a recursive or a higher-order function to avoid having multiple while loops to solve complex problems that you've tried with while using more than one loop and then returning those results all at once on each level like when we would be doing.\n",
      "\n",
      "```\n"
     ]
    }
   ],
   "source": [
    "print(response.choices[0].message.content)"
   ]
  },
  {
   "cell_type": "code",
   "execution_count": null,
   "id": "a0760443",
   "metadata": {},
   "outputs": [],
   "source": []
  }
 ],
 "metadata": {
  "kernelspec": {
   "display_name": "Python 3 (ipykernel)",
   "language": "python",
   "name": "python3"
  },
  "language_info": {
   "codemirror_mode": {
    "name": "ipython",
    "version": 3
   },
   "file_extension": ".py",
   "mimetype": "text/x-python",
   "name": "python",
   "nbconvert_exporter": "python",
   "pygments_lexer": "ipython3",
   "version": "3.11.11"
  }
 },
 "nbformat": 4,
 "nbformat_minor": 5
}
