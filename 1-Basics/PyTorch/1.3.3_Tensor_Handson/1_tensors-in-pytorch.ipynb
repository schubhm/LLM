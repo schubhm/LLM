{
  "cells": [
    {
      "cell_type": "code",
      "execution_count": 1,
      "metadata": {
        "colab": {
          "base_uri": "https://localhost:8080/"
        },
        "id": "7Aw5wayvxzoT",
        "outputId": "745bd121-6139-4408-9877-961301062690"
      },
      "outputs": [
        {
          "name": "stdout",
          "output_type": "stream",
          "text": [
            "2.6.0+cu124\n",
            "False\n",
            "12.4\n"
          ]
        }
      ],
      "source": [
        "import torch\n",
        "print(torch.__version__)\n",
        "print(torch.cuda.is_available())\n",
        "print(torch.version.cuda)"
      ]
    },
    {
      "cell_type": "markdown",
      "metadata": {
        "id": "yCdEwNyrzGne"
      },
      "source": [
        "## Creating a Tensor"
      ]
    },
    {
      "cell_type": "code",
      "execution_count": 2,
      "metadata": {
        "id": "vYWrKYvpzEeu"
      },
      "outputs": [],
      "source": [
        "a = torch.empty(size=(2,3)) #allocates memory and shows what is stored at that location"
      ]
    },
    {
      "cell_type": "code",
      "execution_count": 3,
      "metadata": {
        "colab": {
          "base_uri": "https://localhost:8080/"
        },
        "id": "GbSE1Ax6zLKL",
        "outputId": "62792728-be55-4aeb-883b-2cc8dfe0217c"
      },
      "outputs": [
        {
          "data": {
            "text/plain": [
              "torch.Tensor"
            ]
          },
          "execution_count": 3,
          "metadata": {},
          "output_type": "execute_result"
        }
      ],
      "source": [
        "type(a)"
      ]
    },
    {
      "cell_type": "code",
      "execution_count": 4,
      "metadata": {
        "colab": {
          "base_uri": "https://localhost:8080/"
        },
        "id": "IEpWFB53zecJ",
        "outputId": "113e2e1a-8187-4118-c001-b44befbfc51b"
      },
      "outputs": [
        {
          "data": {
            "text/plain": [
              "tensor([[0., 0., 0.],\n",
              "        [0., 0., 0.],\n",
              "        [0., 0., 0.]])"
            ]
          },
          "execution_count": 4,
          "metadata": {},
          "output_type": "execute_result"
        }
      ],
      "source": [
        "torch.zeros(3,3)"
      ]
    },
    {
      "cell_type": "code",
      "execution_count": 5,
      "metadata": {
        "colab": {
          "base_uri": "https://localhost:8080/"
        },
        "id": "3UAytxO6zibC",
        "outputId": "57fae622-536a-4d22-88eb-47e529927e41"
      },
      "outputs": [
        {
          "data": {
            "text/plain": [
              "tensor([[1., 1., 1.],\n",
              "        [1., 1., 1.],\n",
              "        [1., 1., 1.]])"
            ]
          },
          "execution_count": 5,
          "metadata": {},
          "output_type": "execute_result"
        }
      ],
      "source": [
        "torch.ones(3,3)"
      ]
    },
    {
      "cell_type": "code",
      "execution_count": 6,
      "metadata": {
        "colab": {
          "base_uri": "https://localhost:8080/"
        },
        "id": "Q9AY5fvuzxCX",
        "outputId": "1eee5d18-3a3d-4b39-b04a-f0556a70c2ce"
      },
      "outputs": [
        {
          "data": {
            "text/plain": [
              "tensor([[0.5047, 0.8647, 0.6636],\n",
              "        [0.2055, 0.3779, 0.2899]])"
            ]
          },
          "execution_count": 6,
          "metadata": {},
          "output_type": "execute_result"
        }
      ],
      "source": [
        "torch.rand(2,3)"
      ]
    },
    {
      "cell_type": "code",
      "execution_count": 7,
      "metadata": {
        "colab": {
          "base_uri": "https://localhost:8080/"
        },
        "id": "SKvqj9Szz0RO",
        "outputId": "b8f2cc2b-eb34-4a87-8c91-fd4572186829"
      },
      "outputs": [
        {
          "data": {
            "text/plain": [
              "tensor([[0.1117, 0.8158, 0.2626],\n",
              "        [0.4839, 0.6765, 0.7539]])"
            ]
          },
          "execution_count": 7,
          "metadata": {},
          "output_type": "execute_result"
        }
      ],
      "source": [
        "torch.manual_seed(100)\n",
        "torch.rand(2,3)"
      ]
    },
    {
      "cell_type": "code",
      "execution_count": 8,
      "metadata": {
        "colab": {
          "base_uri": "https://localhost:8080/"
        },
        "id": "KwbRpnNT0AY8",
        "outputId": "5d7fc95c-132b-4ea9-951d-7bc36a51cef0"
      },
      "outputs": [
        {
          "data": {
            "text/plain": [
              "tensor([[0., 0., 0.],\n",
              "        [0., 0., 0.],\n",
              "        [0., 0., 0.]])"
            ]
          },
          "execution_count": 8,
          "metadata": {},
          "output_type": "execute_result"
        }
      ],
      "source": [
        "torch.tensor([[0., 0., 0.],\n",
        "        [0., 0., 0.],\n",
        "        [0., 0., 0.]])"
      ]
    },
    {
      "cell_type": "markdown",
      "metadata": {
        "id": "opdQAzFu0WGJ"
      },
      "source": [
        "## Tensor Shapes"
      ]
    },
    {
      "cell_type": "code",
      "execution_count": 9,
      "metadata": {
        "id": "vvOFspTh0IFj"
      },
      "outputs": [],
      "source": [
        "x = torch.tensor([[0., 0., 0.],\n",
        "        [0., 0., 0.],\n",
        "        [0., 0., 0.]])"
      ]
    },
    {
      "cell_type": "code",
      "execution_count": 10,
      "metadata": {
        "colab": {
          "base_uri": "https://localhost:8080/"
        },
        "id": "0lXDgPqc0dfc",
        "outputId": "5f74d190-c4e9-4cd6-8de1-1737d8591859"
      },
      "outputs": [
        {
          "data": {
            "text/plain": [
              "torch.Size([3, 3])"
            ]
          },
          "execution_count": 10,
          "metadata": {},
          "output_type": "execute_result"
        }
      ],
      "source": [
        "x.shape"
      ]
    },
    {
      "cell_type": "code",
      "execution_count": 11,
      "metadata": {
        "id": "xPUQ_YDt0e8-"
      },
      "outputs": [],
      "source": [
        "y = torch.empty_like(x)"
      ]
    },
    {
      "cell_type": "code",
      "execution_count": 12,
      "metadata": {
        "colab": {
          "base_uri": "https://localhost:8080/"
        },
        "id": "bmdH_TUx0lNZ",
        "outputId": "8b736a5d-0ee2-4503-e869-0732edb693a8"
      },
      "outputs": [
        {
          "data": {
            "text/plain": [
              "tensor([[2.1707e-18, 7.0952e+22, 1.7748e+28],\n",
              "        [1.8176e+31, 7.2708e+31, 5.0778e+31],\n",
              "        [3.2608e-12, 1.7728e+28, 7.0367e+22]])"
            ]
          },
          "execution_count": 12,
          "metadata": {},
          "output_type": "execute_result"
        }
      ],
      "source": [
        "y"
      ]
    },
    {
      "cell_type": "markdown",
      "metadata": {
        "id": "vsbFwC2t1RCd"
      },
      "source": [
        "## Tensor Datatype"
      ]
    },
    {
      "cell_type": "code",
      "execution_count": 13,
      "metadata": {
        "colab": {
          "base_uri": "https://localhost:8080/"
        },
        "id": "URQpHDaD0lyA",
        "outputId": "155d6aba-c029-4498-f783-2b4cae5a2e28"
      },
      "outputs": [
        {
          "data": {
            "text/plain": [
              "torch.float32"
            ]
          },
          "execution_count": 13,
          "metadata": {},
          "output_type": "execute_result"
        }
      ],
      "source": [
        "x.dtype"
      ]
    },
    {
      "cell_type": "code",
      "execution_count": 14,
      "metadata": {
        "colab": {
          "base_uri": "https://localhost:8080/"
        },
        "id": "tOvthg6x1AuA",
        "outputId": "d5b0ae67-8863-4beb-ab90-acfe15951f92"
      },
      "outputs": [
        {
          "data": {
            "text/plain": [
              "tensor([[0, 0, 0],\n",
              "        [0, 0, 0],\n",
              "        [0, 0, 0]])"
            ]
          },
          "execution_count": 14,
          "metadata": {},
          "output_type": "execute_result"
        }
      ],
      "source": [
        "x.to(int)"
      ]
    },
    {
      "cell_type": "markdown",
      "metadata": {
        "id": "lcinI3Bw1Wzi"
      },
      "source": [
        "## Mathematical Operations"
      ]
    },
    {
      "cell_type": "code",
      "execution_count": 15,
      "metadata": {
        "colab": {
          "base_uri": "https://localhost:8080/"
        },
        "id": "OZGyM_N81IFG",
        "outputId": "4538de40-269d-4a58-9440-6fee494c8c16"
      },
      "outputs": [
        {
          "data": {
            "text/plain": [
              "tensor([[2., 2., 2.],\n",
              "        [2., 2., 2.],\n",
              "        [2., 2., 2.]])"
            ]
          },
          "execution_count": 15,
          "metadata": {},
          "output_type": "execute_result"
        }
      ],
      "source": [
        "x+2"
      ]
    },
    {
      "cell_type": "code",
      "execution_count": 16,
      "metadata": {
        "colab": {
          "base_uri": "https://localhost:8080/"
        },
        "id": "H2V7MiEi1afB",
        "outputId": "4f160aed-645e-4477-b2cb-5d35d0e70b52"
      },
      "outputs": [
        {
          "data": {
            "text/plain": [
              "tensor([[2.1707e-18, 7.0952e+22, 1.7748e+28],\n",
              "        [1.8176e+31, 7.2708e+31, 5.0778e+31],\n",
              "        [3.2608e-12, 1.7728e+28, 7.0367e+22]])"
            ]
          },
          "execution_count": 16,
          "metadata": {},
          "output_type": "execute_result"
        }
      ],
      "source": [
        "x+y"
      ]
    },
    {
      "cell_type": "code",
      "execution_count": 17,
      "metadata": {
        "colab": {
          "base_uri": "https://localhost:8080/"
        },
        "id": "j5--Trk61rWv",
        "outputId": "a918ba09-06bd-43c1-e23a-079c60efe173"
      },
      "outputs": [
        {
          "data": {
            "text/plain": [
              "tensor(1.4170e+32)"
            ]
          },
          "execution_count": 17,
          "metadata": {},
          "output_type": "execute_result"
        }
      ],
      "source": [
        " torch.sum(x+y)"
      ]
    },
    {
      "cell_type": "code",
      "execution_count": 18,
      "metadata": {
        "colab": {
          "base_uri": "https://localhost:8080/"
        },
        "id": "-7lFaobX2D59",
        "outputId": "b603b19f-d033-4b21-b488-560d9119a960"
      },
      "outputs": [
        {
          "data": {
            "text/plain": [
              "tensor([[False, False, False],\n",
              "        [False, False, False],\n",
              "        [False, False, False]])"
            ]
          },
          "execution_count": 18,
          "metadata": {},
          "output_type": "execute_result"
        }
      ],
      "source": [
        "x>y"
      ]
    },
    {
      "cell_type": "markdown",
      "metadata": {
        "id": "RCLoMWq33Bu8"
      },
      "source": [
        "## Inplace operations"
      ]
    },
    {
      "cell_type": "code",
      "execution_count": 19,
      "metadata": {
        "colab": {
          "base_uri": "https://localhost:8080/"
        },
        "id": "HcerB-zd2_9Y",
        "outputId": "8cb94f3d-d42c-46ca-e695-473ef20468aa"
      },
      "outputs": [
        {
          "data": {
            "text/plain": [
              "tensor([[2.1707e-18, 7.0952e+22, 1.7748e+28],\n",
              "        [1.8176e+31, 7.2708e+31, 5.0778e+31],\n",
              "        [3.2608e-12, 1.7728e+28, 7.0367e+22]])"
            ]
          },
          "execution_count": 19,
          "metadata": {},
          "output_type": "execute_result"
        }
      ],
      "source": [
        "x.add_(y)"
      ]
    },
    {
      "cell_type": "code",
      "execution_count": 20,
      "metadata": {
        "colab": {
          "base_uri": "https://localhost:8080/"
        },
        "id": "1nN5wWu43Lm-",
        "outputId": "31d39a26-060a-46cb-c9b9-f1b517509352"
      },
      "outputs": [
        {
          "data": {
            "text/plain": [
              "tensor([[2.1707e-18, 7.0952e+22, 1.7748e+28],\n",
              "        [1.8176e+31, 7.2708e+31, 5.0778e+31],\n",
              "        [3.2608e-12, 1.7728e+28, 7.0367e+22]])"
            ]
          },
          "execution_count": 20,
          "metadata": {},
          "output_type": "execute_result"
        }
      ],
      "source": [
        "x"
      ]
    },
    {
      "cell_type": "code",
      "execution_count": 21,
      "metadata": {
        "colab": {
          "base_uri": "https://localhost:8080/"
        },
        "id": "qNq8owgp3OkS",
        "outputId": "cd30781a-b8f3-4526-fa72-218a4916bf40"
      },
      "outputs": [
        {
          "data": {
            "text/plain": [
              "133693172637072"
            ]
          },
          "execution_count": 21,
          "metadata": {},
          "output_type": "execute_result"
        }
      ],
      "source": [
        "id(x)"
      ]
    },
    {
      "cell_type": "code",
      "execution_count": 22,
      "metadata": {
        "colab": {
          "base_uri": "https://localhost:8080/"
        },
        "id": "sGp-KYKi3lGh",
        "outputId": "88a89641-b74b-470e-a056-565896547456"
      },
      "outputs": [
        {
          "data": {
            "text/plain": [
              "133693172635536"
            ]
          },
          "execution_count": 22,
          "metadata": {},
          "output_type": "execute_result"
        }
      ],
      "source": [
        "id(y)"
      ]
    },
    {
      "cell_type": "code",
      "execution_count": 23,
      "metadata": {
        "id": "1K21wg5D3mG_"
      },
      "outputs": [],
      "source": [
        "z=x"
      ]
    },
    {
      "cell_type": "code",
      "execution_count": 24,
      "metadata": {
        "colab": {
          "base_uri": "https://localhost:8080/"
        },
        "id": "Ka9s-PbL3oBc",
        "outputId": "b1f16752-da95-48a5-f121-6704e8a1eff6"
      },
      "outputs": [
        {
          "data": {
            "text/plain": [
              "133693172637072"
            ]
          },
          "execution_count": 24,
          "metadata": {},
          "output_type": "execute_result"
        }
      ],
      "source": [
        "id(z)"
      ]
    },
    {
      "cell_type": "code",
      "execution_count": 25,
      "metadata": {
        "id": "EVdEq8N33pcV"
      },
      "outputs": [],
      "source": [
        "z=x.clone()"
      ]
    },
    {
      "cell_type": "code",
      "execution_count": 26,
      "metadata": {
        "colab": {
          "base_uri": "https://localhost:8080/"
        },
        "id": "sYG-gPmn3s0D",
        "outputId": "4dd5dbb9-ebf4-4bd7-f256-436c24efbfb3"
      },
      "outputs": [
        {
          "data": {
            "text/plain": [
              "133693173303632"
            ]
          },
          "execution_count": 26,
          "metadata": {},
          "output_type": "execute_result"
        }
      ],
      "source": [
        "id(z)"
      ]
    },
    {
      "cell_type": "markdown",
      "metadata": {
        "id": "Myy37DQH38dJ"
      },
      "source": [
        "## GPU Operations"
      ]
    },
    {
      "cell_type": "code",
      "execution_count": 27,
      "metadata": {
        "colab": {
          "base_uri": "https://localhost:8080/"
        },
        "id": "m_mdYJX83uIb",
        "outputId": "d0f6c48f-777f-4952-baed-a47dbe3aa876"
      },
      "outputs": [
        {
          "data": {
            "text/plain": [
              "False"
            ]
          },
          "execution_count": 27,
          "metadata": {},
          "output_type": "execute_result"
        }
      ],
      "source": [
        "torch.cuda.is_available()"
      ]
    },
    {
      "cell_type": "code",
      "execution_count": 28,
      "metadata": {
        "id": "Pkt3rBQ14C2A"
      },
      "outputs": [],
      "source": [
        "device = torch.device('cuda' if torch.cuda.is_available() else 'cpu')"
      ]
    },
    {
      "cell_type": "code",
      "execution_count": 29,
      "metadata": {
        "colab": {
          "base_uri": "https://localhost:8080/"
        },
        "id": "VN1rqjFH4K3h",
        "outputId": "db1633e9-1eb6-46fe-f31c-dc8a3ad71da8"
      },
      "outputs": [
        {
          "data": {
            "text/plain": [
              "tensor([[2.6269e-01, 4.2840e-02, 2.0803e-01, 1.1804e-01, 1.2169e-01, 7.3560e-01,\n",
              "         7.1177e-01, 7.8758e-01, 4.1831e-01, 9.0141e-01, 9.9689e-01, 7.5651e-01,\n",
              "         2.2389e-01, 3.0235e-01, 1.7842e-01, 8.2384e-01, 5.5574e-01, 9.7702e-01,\n",
              "         4.4402e-01, 9.4785e-01, 7.4448e-01, 4.8920e-01, 2.4256e-01, 7.0034e-01,\n",
              "         5.2769e-01, 2.4718e-01, 7.9089e-01, 4.2349e-01, 1.6899e-02, 2.2089e-01],\n",
              "        [9.5354e-01, 7.0640e-01, 1.6288e-01, 8.9020e-01, 5.1627e-01, 3.5885e-02,\n",
              "         6.4763e-01, 3.4303e-01, 3.1824e-01, 5.2609e-01, 4.4659e-02, 5.1235e-01,\n",
              "         9.0508e-01, 5.9886e-01, 4.4500e-01, 7.2783e-01, 4.5626e-01, 3.3887e-01,\n",
              "         6.2115e-01, 5.5302e-01, 6.8960e-01, 3.6874e-01, 9.0527e-01, 8.3558e-01,\n",
              "         3.0390e-01, 6.7262e-01, 5.7396e-01, 9.2329e-01, 9.1781e-01, 7.5903e-01],\n",
              "        [7.7752e-01, 6.1788e-01, 3.3787e-01, 2.1703e-01, 9.4536e-01, 7.1156e-01,\n",
              "         1.1574e-01, 6.5736e-01, 3.4515e-01, 4.5344e-02, 9.7976e-01, 5.5479e-01,\n",
              "         6.8678e-01, 4.9204e-01, 7.4799e-02, 9.6049e-01, 3.2709e-01, 1.0255e-02,\n",
              "         9.5160e-01, 2.8553e-01, 2.3242e-01, 9.1409e-01, 7.6681e-01, 1.6592e-01,\n",
              "         4.3933e-01, 2.2428e-01, 8.9348e-01, 4.9744e-02, 1.7798e-01, 3.0110e-01],\n",
              "        [1.8930e-01, 9.1860e-01, 2.1314e-01, 3.9566e-01, 6.0166e-01, 4.2341e-01,\n",
              "         5.2244e-01, 4.1750e-01, 3.4009e-02, 9.1574e-01, 3.0789e-01, 6.2695e-01,\n",
              "         8.2768e-01, 6.5935e-01, 8.8695e-02, 4.8896e-01, 5.8873e-01, 7.3401e-01,\n",
              "         8.4972e-01, 9.1118e-01, 4.8474e-01, 9.4356e-01, 3.9045e-01, 2.4992e-01,\n",
              "         3.2063e-01, 9.7527e-01, 7.5818e-01, 6.6880e-01, 2.6512e-01, 2.3362e-01],\n",
              "        [5.0568e-01, 5.6883e-01, 6.3373e-02, 8.9930e-01, 2.7325e-01, 3.3975e-01,\n",
              "         1.8794e-01, 5.5339e-01, 2.6817e-01, 9.5558e-01, 9.7613e-01, 5.9337e-01,\n",
              "         3.1239e-01, 9.4314e-01, 8.5186e-01, 9.8153e-01, 1.1318e-01, 4.7830e-01,\n",
              "         4.4365e-01, 3.8474e-01, 4.5208e-01, 5.5685e-01, 9.9523e-01, 1.4892e-03,\n",
              "         8.1264e-02, 4.9074e-01, 2.1299e-01, 4.6032e-01, 1.3862e-01, 2.7686e-02],\n",
              "        [5.6623e-01, 3.5030e-01, 6.5549e-01, 7.6671e-01, 2.2692e-01, 7.5551e-01,\n",
              "         6.4580e-01, 3.6734e-01, 1.7702e-01, 2.9656e-01, 9.9246e-01, 2.1034e-01,\n",
              "         1.2920e-01, 1.7187e-01, 9.1269e-01, 6.8177e-01, 1.9534e-01, 9.9907e-01,\n",
              "         1.1334e-01, 1.3520e-02, 1.4501e-01, 7.8195e-01, 3.1339e-01, 2.9834e-01,\n",
              "         3.4357e-01, 2.0277e-01, 9.7920e-01, 4.9468e-01, 3.6170e-01, 9.6867e-01],\n",
              "        [3.5917e-02, 3.0412e-01, 9.8666e-01, 1.2902e-01, 6.8866e-01, 1.6367e-01,\n",
              "         8.9926e-02, 3.1390e-01, 1.2192e-01, 3.5160e-01, 2.3164e-01, 2.8473e-01,\n",
              "         3.5195e-01, 2.8276e-01, 2.4204e-01, 4.9278e-01, 5.7719e-01, 3.7713e-01,\n",
              "         2.4401e-01, 8.9939e-01, 1.0409e-01, 9.1928e-01, 6.2014e-01, 3.6585e-01,\n",
              "         6.2283e-02, 5.9673e-01, 8.2883e-02, 8.1852e-01, 4.9640e-01, 5.8851e-02],\n",
              "        [9.8403e-01, 5.8356e-01, 6.7370e-01, 4.7383e-01, 9.3360e-01, 2.5575e-01,\n",
              "         1.5061e-01, 7.8561e-01, 4.1519e-01, 5.8086e-01, 1.0876e-01, 7.0646e-01,\n",
              "         1.0476e-02, 4.6017e-01, 2.9446e-01, 4.7520e-02, 6.4007e-01, 3.7836e-01,\n",
              "         5.8870e-01, 7.2030e-02, 9.1402e-01, 8.5274e-03, 2.1736e-01, 1.8899e-01,\n",
              "         9.1108e-02, 6.3440e-01, 3.1417e-01, 7.0519e-01, 6.4472e-01, 9.5170e-01],\n",
              "        [3.5815e-01, 3.4113e-01, 4.3272e-02, 4.3734e-01, 9.9474e-01, 1.7484e-01,\n",
              "         1.3736e-01, 8.0047e-01, 7.0036e-01, 8.8032e-01, 1.5727e-01, 3.3425e-01,\n",
              "         9.6522e-01, 1.8616e-01, 1.5079e-01, 3.1830e-01, 3.2107e-02, 3.2897e-01,\n",
              "         5.3014e-01, 6.4006e-01, 7.9543e-01, 3.0665e-01, 2.3967e-01, 1.1560e-01,\n",
              "         4.8393e-01, 3.9441e-01, 8.0108e-02, 7.7824e-01, 6.6856e-01, 2.3124e-01],\n",
              "        [1.1641e-01, 1.9213e-01, 2.3805e-01, 1.6431e-01, 1.7237e-01, 8.4618e-01,\n",
              "         1.0725e-01, 7.1131e-01, 1.4063e-01, 2.9495e-01, 3.2638e-01, 4.7080e-01,\n",
              "         3.9782e-01, 7.0549e-01, 9.1618e-01, 8.0602e-01, 7.2666e-01, 8.0540e-01,\n",
              "         1.6962e-01, 2.0228e-01, 9.1942e-01, 1.5091e-02, 3.2429e-02, 9.5385e-01,\n",
              "         5.5642e-01, 7.5675e-01, 1.5729e-01, 3.9693e-01, 2.3810e-01, 1.2681e-01],\n",
              "        [4.4604e-01, 3.7044e-02, 6.4422e-01, 8.1077e-01, 2.5499e-01, 8.6077e-01,\n",
              "         8.2499e-01, 2.2358e-01, 7.7200e-02, 4.8176e-01, 7.7594e-02, 5.3087e-02,\n",
              "         2.6097e-01, 1.0680e-01, 3.0105e-01, 4.5867e-01, 5.2221e-01, 6.8301e-02,\n",
              "         9.1178e-01, 8.2859e-01, 1.6354e-01, 1.7753e-01, 7.1628e-01, 9.3546e-01,\n",
              "         1.4298e-01, 3.9327e-01, 1.1245e-01, 3.0870e-01, 9.9732e-01, 4.2572e-01],\n",
              "        [6.8901e-01, 9.6570e-01, 2.5725e-02, 4.2046e-01, 6.5620e-02, 4.5084e-01,\n",
              "         5.5344e-02, 3.1398e-01, 7.4600e-01, 9.3570e-01, 8.9247e-01, 1.3704e-01,\n",
              "         1.8033e-01, 4.0226e-01, 4.2963e-01, 3.6923e-01, 1.6114e-01, 9.4218e-01,\n",
              "         8.7770e-01, 5.3205e-01, 5.3919e-01, 1.5801e-01, 6.4201e-01, 6.9311e-01,\n",
              "         3.1341e-03, 6.7510e-01, 1.5374e-01, 5.2807e-01, 1.1619e-01, 4.4307e-01],\n",
              "        [2.1351e-01, 2.1179e-01, 6.5613e-01, 3.7220e-01, 3.6525e-01, 7.0546e-01,\n",
              "         8.3900e-02, 1.7666e-01, 7.9892e-01, 9.7380e-01, 2.6652e-01, 1.4092e-01,\n",
              "         7.6301e-01, 9.6913e-01, 3.7080e-01, 6.2380e-02, 5.8672e-01, 7.1736e-01,\n",
              "         1.1775e-01, 6.7905e-01, 1.7401e-01, 1.6068e-01, 5.6776e-01, 4.8285e-01,\n",
              "         8.4117e-01, 2.3526e-01, 6.4673e-01, 6.8039e-01, 1.6834e-02, 3.9697e-01],\n",
              "        [5.3521e-01, 2.0231e-01, 9.0562e-01, 7.2718e-03, 7.7523e-01, 3.7126e-01,\n",
              "         7.1303e-02, 2.4375e-01, 7.6089e-01, 4.6466e-01, 6.7724e-01, 9.8594e-01,\n",
              "         8.1472e-01, 7.4113e-01, 9.7097e-01, 5.6798e-01, 2.4862e-01, 2.2790e-01,\n",
              "         7.8366e-01, 2.9373e-01, 1.2051e-01, 3.9992e-01, 5.2518e-02, 1.9826e-01,\n",
              "         8.0848e-01, 2.8465e-01, 5.0688e-01, 3.9037e-02, 3.4859e-01, 6.8130e-01],\n",
              "        [6.3578e-01, 5.2229e-01, 3.8153e-01, 9.4870e-02, 6.5376e-01, 5.5807e-01,\n",
              "         8.0054e-01, 3.5621e-02, 8.2942e-01, 8.8390e-01, 1.7383e-01, 7.3356e-01,\n",
              "         7.3324e-01, 6.6301e-01, 4.2164e-01, 7.0633e-01, 8.2384e-01, 1.2846e-01,\n",
              "         5.9718e-02, 2.7242e-01, 7.2300e-01, 6.9703e-01, 8.7974e-01, 3.0623e-01,\n",
              "         4.1536e-01, 1.0325e-01, 2.6381e-01, 7.4417e-01, 3.0510e-03, 3.0540e-01],\n",
              "        [2.6606e-01, 1.8062e-02, 4.7339e-01, 4.2858e-01, 1.0506e-01, 3.0599e-02,\n",
              "         3.8192e-01, 4.6466e-01, 3.5439e-01, 9.5199e-01, 2.7343e-01, 2.1644e-01,\n",
              "         5.3959e-01, 7.9468e-01, 4.4392e-01, 3.9554e-01, 1.4572e-01, 4.0563e-01,\n",
              "         8.2293e-01, 6.6888e-01, 5.8645e-01, 6.0006e-01, 5.2002e-01, 4.9382e-01,\n",
              "         3.3284e-01, 7.1403e-01, 6.8769e-01, 8.3954e-01, 2.2863e-01, 1.6288e-01],\n",
              "        [7.1136e-01, 7.7883e-01, 3.8680e-01, 1.2513e-01, 6.5349e-01, 2.5209e-01,\n",
              "         2.4631e-01, 1.7751e-01, 7.2350e-01, 8.1017e-01, 1.1831e-01, 1.6977e-01,\n",
              "         3.3162e-01, 8.8487e-01, 9.0868e-01, 7.3256e-01, 1.5962e-01, 9.5361e-01,\n",
              "         2.6091e-01, 9.3173e-01, 4.5737e-01, 9.6227e-01, 4.9948e-01, 6.1475e-01,\n",
              "         1.4343e-01, 8.4358e-04, 6.5422e-01, 3.6181e-01, 3.9333e-01, 5.8699e-01],\n",
              "        [7.5055e-01, 5.5630e-01, 6.3604e-01, 6.0368e-01, 8.5403e-01, 2.5727e-01,\n",
              "         7.4100e-01, 3.9469e-01, 6.0200e-01, 9.0354e-01, 9.3905e-01, 2.6928e-01,\n",
              "         9.7019e-01, 3.9490e-01, 4.5422e-01, 8.4587e-01, 9.0324e-01, 2.4525e-01,\n",
              "         2.6548e-01, 3.2897e-01, 2.0605e-01, 6.5448e-01, 9.1722e-01, 7.5231e-01,\n",
              "         2.5141e-01, 8.6081e-01, 6.2773e-01, 9.0779e-01, 2.6978e-01, 9.6172e-02],\n",
              "        [1.8666e-02, 3.2928e-01, 8.7744e-01, 2.8049e-01, 3.0237e-01, 1.9541e-01,\n",
              "         1.9445e-01, 3.9323e-01, 9.5947e-01, 8.6987e-01, 1.9666e-01, 5.3115e-01,\n",
              "         6.8082e-01, 4.0589e-01, 8.1784e-04, 9.0942e-01, 1.5251e-01, 3.9976e-01,\n",
              "         7.9367e-01, 3.1498e-01, 9.1095e-01, 1.2593e-02, 1.2919e-01, 6.8727e-02,\n",
              "         8.0551e-01, 4.5387e-01, 9.4836e-01, 2.8766e-01, 7.3243e-02, 8.3731e-01],\n",
              "        [6.1528e-01, 2.7631e-01, 5.0993e-01, 8.2403e-01, 5.6274e-01, 3.5981e-02,\n",
              "         6.5848e-01, 6.5825e-03, 5.9918e-01, 8.9070e-01, 9.3043e-01, 7.5230e-01,\n",
              "         9.2575e-01, 2.4099e-01, 1.5697e-02, 2.0611e-01, 5.1674e-01, 6.6563e-01,\n",
              "         9.4082e-01, 6.2020e-01, 9.3408e-01, 7.5845e-01, 7.6495e-03, 7.1872e-01,\n",
              "         5.4302e-01, 5.6283e-01, 1.8001e-01, 1.0971e-02, 4.8018e-01, 4.4650e-02]])"
            ]
          },
          "execution_count": 29,
          "metadata": {},
          "output_type": "execute_result"
        }
      ],
      "source": [
        "torch.rand(20,30,device=device)"
      ]
    },
    {
      "cell_type": "markdown",
      "metadata": {
        "id": "iSveUHjT4kbW"
      },
      "source": [
        "- CPU time taken for heavy operation like 10000*10000 =\n",
        "18 sec\n",
        "- GPU time taken for heavy operation like 10000*10000 = 0.5 sec\n",
        "\n"
      ]
    },
    {
      "cell_type": "code",
      "execution_count": 32,
      "metadata": {
        "colab": {
          "base_uri": "https://localhost:8080/"
        },
        "id": "3XLFqOHX4uQa",
        "outputId": "f061fea0-eaaf-45a6-c231-fffa54f9c028"
      },
      "outputs": [
        {
          "data": {
            "text/plain": [
              "tensor([2.1707e-18, 7.0952e+22, 1.7748e+28, 1.8176e+31, 7.2708e+31, 5.0778e+31,\n",
              "        3.2608e-12, 1.7728e+28, 7.0367e+22])"
            ]
          },
          "execution_count": 32,
          "metadata": {},
          "output_type": "execute_result"
        }
      ],
      "source": [
        "x.flatten()"
      ]
    },
    {
      "cell_type": "code",
      "execution_count": 33,
      "metadata": {
        "colab": {
          "base_uri": "https://localhost:8080/"
        },
        "id": "_4v-3TzY5AOq",
        "outputId": "acc013ae-d8c8-4509-8f0b-b9fada688bcb"
      },
      "outputs": [
        {
          "data": {
            "text/plain": [
              "tensor([[2.1707e-18, 7.0952e+22, 1.7748e+28],\n",
              "        [1.8176e+31, 7.2708e+31, 5.0778e+31],\n",
              "        [3.2608e-12, 1.7728e+28, 7.0367e+22]])"
            ]
          },
          "execution_count": 33,
          "metadata": {},
          "output_type": "execute_result"
        }
      ],
      "source": [
        "x"
      ]
    },
    {
      "cell_type": "markdown",
      "metadata": {
        "id": "Vq0SqVec5YUt"
      },
      "source": [
        "## Squeeze fn"
      ]
    },
    {
      "cell_type": "code",
      "execution_count": 34,
      "metadata": {
        "id": "Zp5CXMm45CWi"
      },
      "outputs": [],
      "source": [
        "c = torch.rand(226,226,3)"
      ]
    },
    {
      "cell_type": "code",
      "execution_count": 37,
      "metadata": {
        "colab": {
          "base_uri": "https://localhost:8080/"
        },
        "id": "qMjXDrxe5R-X",
        "outputId": "177eb2e6-6863-4d9a-9c78-c35c96af2a83"
      },
      "outputs": [
        {
          "data": {
            "text/plain": [
              "tensor([[[0.7414, 0.3562, 0.8671],\n",
              "         [0.3627, 0.6940, 0.4759],\n",
              "         [0.2856, 0.6258, 0.3367],\n",
              "         ...,\n",
              "         [0.2251, 0.4714, 0.2725],\n",
              "         [0.5466, 0.7515, 0.5429],\n",
              "         [0.7872, 0.6731, 0.7982]],\n",
              "\n",
              "        [[0.8619, 0.8791, 0.4720],\n",
              "         [0.6193, 0.5976, 0.5374],\n",
              "         [0.0408, 0.1637, 0.7557],\n",
              "         ...,\n",
              "         [0.5069, 0.9384, 0.6712],\n",
              "         [0.9680, 0.0315, 0.0370],\n",
              "         [0.9342, 0.2756, 0.7495]],\n",
              "\n",
              "        [[0.1521, 0.8253, 0.1846],\n",
              "         [0.8361, 0.8691, 0.7554],\n",
              "         [0.6067, 0.6699, 0.2419],\n",
              "         ...,\n",
              "         [0.3031, 0.1857, 0.9195],\n",
              "         [0.3051, 0.4696, 0.3403],\n",
              "         [0.4297, 0.8070, 0.7251]],\n",
              "\n",
              "        ...,\n",
              "\n",
              "        [[0.5298, 0.6694, 0.8371],\n",
              "         [0.5522, 0.7093, 0.2151],\n",
              "         [0.8967, 0.5102, 0.2078],\n",
              "         ...,\n",
              "         [0.7262, 0.8430, 0.6629],\n",
              "         [0.3306, 0.9358, 0.1642],\n",
              "         [0.3661, 0.0386, 0.5751]],\n",
              "\n",
              "        [[0.1908, 0.2047, 0.0400],\n",
              "         [0.7989, 0.7538, 0.5627],\n",
              "         [0.7443, 0.4517, 0.9438],\n",
              "         ...,\n",
              "         [0.9586, 0.4674, 0.4525],\n",
              "         [0.1881, 0.8987, 0.6926],\n",
              "         [0.3403, 0.8627, 0.5008]],\n",
              "\n",
              "        [[0.9252, 0.9365, 0.3631],\n",
              "         [0.9442, 0.2972, 0.9856],\n",
              "         [0.9235, 0.6184, 0.8424],\n",
              "         ...,\n",
              "         [0.0481, 0.7863, 0.8743],\n",
              "         [0.4919, 0.3985, 0.4799],\n",
              "         [0.1344, 0.7990, 0.3091]]])"
            ]
          },
          "execution_count": 37,
          "metadata": {},
          "output_type": "execute_result"
        }
      ],
      "source": [
        "c"
      ]
    },
    {
      "cell_type": "code",
      "execution_count": 36,
      "metadata": {
        "colab": {
          "base_uri": "https://localhost:8080/"
        },
        "id": "4CwloLi65JmF",
        "outputId": "dc3228d5-b8f9-43ad-d391-11d234e6aa23"
      },
      "outputs": [
        {
          "data": {
            "text/plain": [
              "torch.Size([1, 226, 226, 3])"
            ]
          },
          "execution_count": 36,
          "metadata": {},
          "output_type": "execute_result"
        }
      ],
      "source": [
        "c.unsqueeze(0).shape"
      ]
    },
    {
      "cell_type": "code",
      "execution_count": null,
      "metadata": {
        "id": "5OX0VQBF5Mxc"
      },
      "outputs": [],
      "source": []
    }
  ],
  "metadata": {
    "colab": {
      "provenance": []
    },
    "kernelspec": {
      "display_name": "Python 3",
      "name": "python3"
    },
    "language_info": {
      "name": "python"
    }
  },
  "nbformat": 4,
  "nbformat_minor": 0
}
