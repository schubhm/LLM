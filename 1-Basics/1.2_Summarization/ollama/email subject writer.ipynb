{
 "cells": [
  {
   "cell_type": "code",
   "execution_count": 2,
   "metadata": {},
   "outputs": [],
   "source": [
    "from openai import OpenAI\n",
    "import os\n",
    "from dotenv import load_dotenv\n",
    "from IPython.display import Markdown, display\n",
    "import json"
   ]
  },
  {
   "cell_type": "code",
   "execution_count": 1,
   "metadata": {},
   "outputs": [
    {
     "ename": "NameError",
     "evalue": "name 'load_dotenv' is not defined",
     "output_type": "error",
     "traceback": [
      "\u001b[31m---------------------------------------------------------------------------\u001b[39m",
      "\u001b[31mNameError\u001b[39m                                 Traceback (most recent call last)",
      "\u001b[36mCell\u001b[39m\u001b[36m \u001b[39m\u001b[32mIn[1]\u001b[39m\u001b[32m, line 1\u001b[39m\n\u001b[32m----> \u001b[39m\u001b[32m1\u001b[39m \u001b[43mload_dotenv\u001b[49m(override=\u001b[38;5;28;01mTrue\u001b[39;00m)\n\u001b[32m      2\u001b[39m OPENAI_API_KEY=os.getenv(\u001b[33m'\u001b[39m\u001b[33mOPENAI_API_KEY\u001b[39m\u001b[33m'\u001b[39m)\n",
      "\u001b[31mNameError\u001b[39m: name 'load_dotenv' is not defined"
     ]
    }
   ],
   "source": [
    "load_dotenv(override=True)\n",
    "OPENAI_API_KEY=os.getenv('OPENAI_API_KEY')"
   ]
  },
  {
   "cell_type": "code",
   "execution_count": 10,
   "metadata": {},
   "outputs": [],
   "source": [
    "openai=OpenAI()"
   ]
  },
  {
   "cell_type": "code",
   "execution_count": 7,
   "metadata": {},
   "outputs": [],
   "source": [
    "# Step 1: Create your prompts\n",
    "\n",
    "system_prompt = \"\"\"You are an expert email writer, \n",
    "You are given a task to summarize the emails and suggest the subject for that email\"\"\"\n",
    "\n",
    "user_prompt = \"\"\"\n",
    "This is an advertising message from Nordstrom.\n",
    "\n",
    "For complete Nordy Club program details, go to nordstrom.com/nordyterms.\n",
    "\n",
    "FREE SHIPPING. FREE RETURNS. This offer is only available for standard shipping on Nordstrom.com. Please visit Nordstromrack.com for details about their shipping and return policies.\n",
    "\n",
    "Add nordstrom@eml.nordstrom.com to your address book to ensure that you receive our emails in your inbox.\n",
    "\n",
    "NORDSTROM, 1600 Seventh Avenue, Suite 2600, Seattle, WA 98101\n",
    "Nordstrom Privacy Policy\n",
    "\n",
    "TO UNSUBSCRIBE: This email was sent to you because you are a valued Nordstrom customer. To remove yourself from our email program, please change your email preferences.\n",
    "\n",
    "©2025 Nordstrom\n",
    " \n",
    "\"\"\""
   ]
  },
  {
   "cell_type": "code",
   "execution_count": 8,
   "metadata": {},
   "outputs": [
    {
     "name": "stdout",
     "output_type": "stream",
     "text": [
      "[\n",
      "    {\n",
      "        \"role\": \"system\",\n",
      "        \"content\": \"You are an expert email writer, \\nYou are given a task to summarize the emails and suggest the subject for that email\"\n",
      "    },\n",
      "    {\n",
      "        \"role\": \"user\",\n",
      "        \"content\": \"\\nThis is an advertising message from Nordstrom.\\n\\nFor complete Nordy Club program details, go to nordstrom.com/nordyterms.\\n\\nFREE SHIPPING. FREE RETURNS. This offer is only available for standard shipping on Nordstrom.com. Please visit Nordstromrack.com for details about their shipping and return policies.\\n\\nAdd nordstrom@eml.nordstrom.com to your address book to ensure that you receive our emails in your inbox.\\n\\nNORDSTROM, 1600 Seventh Avenue, Suite 2600, Seattle, WA 98101\\nNordstrom Privacy Policy\\n\\nTO UNSUBSCRIBE: This email was sent to you because you are a valued Nordstrom customer. To remove yourself from our email program, please change your email preferences.\\n\\n\\u00a92025 Nordstrom\\n\\n\"\n",
      "    }\n",
      "]\n"
     ]
    }
   ],
   "source": [
    "# Step 2: Make the messages list\n",
    "messages = [{\"role\":\"system\",\"content\":system_prompt},\n",
    "            {\"role\":\"user\",\"content\":user_prompt}] # fill this in\n",
    "\n",
    "print(json.dumps(messages, indent=4))"
   ]
  },
  {
   "cell_type": "code",
   "execution_count": 13,
   "metadata": {},
   "outputs": [
    {
     "data": {
      "text/markdown": [
       "**Summary:**  \n",
       "This email is an advertising message from Nordstrom, highlighting the benefits of their Nordy Club program and promotional offers such as free shipping and free returns on standard purchases. It provides guidance on ensuring email delivery to the inbox and offers an option to unsubscribe.\n",
       "\n",
       "**Suggested Subject:**  \n",
       "\"Exciting Offers and Updates from Nordstrom!\""
      ],
      "text/plain": [
       "<IPython.core.display.Markdown object>"
      ]
     },
     "metadata": {},
     "output_type": "display_data"
    }
   ],
   "source": [
    "# Step 3: Call OpenAI\n",
    "\n",
    "response = openai.chat.completions.create(messages=messages, model=\"gpt-4o-mini\")\n",
    "\n",
    "# Step 4: print the result\n",
    "\n",
    "subject = response.choices[0].message.content\n",
    "\n",
    "display(Markdown(subject))"
   ]
  },
  {
   "cell_type": "code",
   "execution_count": null,
   "metadata": {},
   "outputs": [],
   "source": []
  }
 ],
 "metadata": {
  "kernelspec": {
   "display_name": ".venv",
   "language": "python",
   "name": "python3"
  },
  "language_info": {
   "codemirror_mode": {
    "name": "ipython",
    "version": 3
   },
   "file_extension": ".py",
   "mimetype": "text/x-python",
   "name": "python",
   "nbconvert_exporter": "python",
   "pygments_lexer": "ipython3",
   "version": "3.12.7"
  }
 },
 "nbformat": 4,
 "nbformat_minor": 2
}
