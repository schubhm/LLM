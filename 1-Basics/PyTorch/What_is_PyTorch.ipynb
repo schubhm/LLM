{
 "cells": [
  {
   "cell_type": "markdown",
   "metadata": {},
   "source": [
    "## What is Pytorch?\n",
    "#### PyTorch is an open-source deep learning framework developed by Meta's AI Research lab (formerly Facebook AI Research). It serves as a comprehensive machine learning library that provides flexible tools for building, training, and deploying neural networks across a wide range of applications.\n",
    "\n",
    "##### Torch - 2002, Code was written in LUA language, Torch was used to create Tensor based calculations on GPU.\n",
    "\n",
    "#### Meta married Python + Torch ====> PyTorch\n",
    "--------\n",
    "### Why Pytorch?\n",
    "- Python Compatibility\n",
    "- Dynamic Computation Graphs\n",
    "\n",
    "## RELEASE 0.1\n",
    "- Research Team Happy\n",
    "\n",
    "## RELEASE 1.0 ----> 2018\n",
    "- Research and Production happy\n",
    "- TorchScript released - Model serialization and optimization - makes model runnable where python is not there like Android App.\n",
    "- Meta Cafe2 library (Production based) merged into PyTorch\n",
    "\n",
    "## Further RELEASES\n",
    "- Distributed training (GPU)\n",
    "- Open NN Exchange (ONNEX) standard - PyTorch model can be used on other systems\n",
    "- Quantization - model compression\n",
    "- torchVision (Computer Vision)\n",
    "- torchText (Text)\n",
    "- torchAudio\n",
    "- PyTorch Lightning/ Fast.ai (like Keras for Tensorflow, High level API)\n",
    "- Hugging Face Transformers\n",
    "\n",
    "## RELEASE 2.0\n",
    "- Performance\n",
    "- Optimized for modern hardware (TPU, custom API chips)"
   ]
  },
  {
   "cell_type": "markdown",
   "metadata": {},
   "source": []
  },
  {
   "cell_type": "markdown",
   "metadata": {},
   "source": [
    "## Core Features\n",
    "1. Tensor Computation\n",
    "2. GPU Accelaration\n",
    "3. Dynamic Computation Graph\n",
    "4. Automatic Differentiation - Calculation of Gradient\n",
    "5. Distributed training\n",
    "6. Interoperability with other libraries"
   ]
  },
  {
   "cell_type": "markdown",
   "metadata": {},
   "source": []
  },
  {
   "cell_type": "markdown",
   "metadata": {},
   "source": [
    "- Tensorflow ---------- PyTorch\n",
    "- Google -------------- Meta\n",
    "- Any language -------- Python\n",
    "- "
   ]
  },
  {
   "cell_type": "markdown",
   "metadata": {},
   "source": []
  },
  {
   "cell_type": "markdown",
   "metadata": {},
   "source": [
    "# Local file\n",
    "![My Image](images/plot.png)"
   ]
  },
  {
   "cell_type": "markdown",
   "metadata": {},
   "source": []
  }
 ],
 "metadata": {
  "language_info": {
   "name": "python"
  }
 },
 "nbformat": 4,
 "nbformat_minor": 2
}
