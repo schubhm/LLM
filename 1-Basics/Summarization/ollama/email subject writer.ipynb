{
 "cells": [
  {
   "cell_type": "markdown",
   "metadata": {},
   "source": [
    "# To start running Ollama - \n",
    "\tollama run llama3.2\n",
    "    curl http://localhost:11434"
   ]
  },
  {
   "cell_type": "code",
   "execution_count": 2,
   "metadata": {},
   "outputs": [],
   "source": [
    "from openai import OpenAI\n",
    "from ollama import chat\n",
    "import os\n",
    "from dotenv import load_dotenv\n",
    "from IPython.display import Markdown, display\n",
    "import json"
   ]
  },
  {
   "cell_type": "code",
   "execution_count": 3,
   "metadata": {},
   "outputs": [],
   "source": [
    "load_dotenv(override=True)\n",
    "OPENAI_API_KEY=os.getenv('OPENAI_API_KEY')"
   ]
  },
  {
   "cell_type": "code",
   "execution_count": 4,
   "metadata": {},
   "outputs": [],
   "source": [
    "openai=OpenAI()"
   ]
  },
  {
   "cell_type": "code",
   "execution_count": 5,
   "metadata": {},
   "outputs": [],
   "source": [
    "# Step 1: Create your prompts\n",
    "\n",
    "system_prompt = \"\"\"You are an expert email writer, \n",
    "You are given a task to summarize the emails and suggest the subject for that email\"\"\"\n",
    "\n",
    "user_prompt = system_prompt+\"\"\"\n",
    "This is an advertising message from Nordstrom.\n",
    "\n",
    "For complete Nordy Club program details, go to nordstrom.com/nordyterms.\n",
    "\n",
    "FREE SHIPPING. FREE RETURNS. This offer is only available for standard shipping on Nordstrom.com. Please visit Nordstromrack.com for details about their shipping and return policies.\n",
    "\n",
    "Add nordstrom@eml.nordstrom.com to your address book to ensure that you receive our emails in your inbox.\n",
    "\n",
    "NORDSTROM, 1600 Seventh Avenue, Suite 2600, Seattle, WA 98101\n",
    "Nordstrom Privacy Policy\n",
    "\n",
    "TO UNSUBSCRIBE: This email was sent to you because you are a valued Nordstrom customer. To remove yourself from our email program, please change your email preferences.\n",
    "\n",
    "©2025 Nordstrom\n",
    " \n",
    "\"\"\""
   ]
  },
  {
   "cell_type": "code",
   "execution_count": 6,
   "metadata": {},
   "outputs": [
    {
     "name": "stdout",
     "output_type": "stream",
     "text": [
      "[\n",
      "    {\n",
      "        \"role\": \"user\",\n",
      "        \"content\": \"You are an expert email writer, \\nYou are given a task to summarize the emails and suggest the subject for that email\\nThis is an advertising message from Nordstrom.\\n\\nFor complete Nordy Club program details, go to nordstrom.com/nordyterms.\\n\\nFREE SHIPPING. FREE RETURNS. This offer is only available for standard shipping on Nordstrom.com. Please visit Nordstromrack.com for details about their shipping and return policies.\\n\\nAdd nordstrom@eml.nordstrom.com to your address book to ensure that you receive our emails in your inbox.\\n\\nNORDSTROM, 1600 Seventh Avenue, Suite 2600, Seattle, WA 98101\\nNordstrom Privacy Policy\\n\\nTO UNSUBSCRIBE: This email was sent to you because you are a valued Nordstrom customer. To remove yourself from our email program, please change your email preferences.\\n\\n\\u00a92025 Nordstrom\\n\\n\"\n",
      "    }\n",
      "]\n"
     ]
    }
   ],
   "source": [
    "# Step 2: Make the messages list\n",
    "messages = [{\"role\":\"user\",\"content\":user_prompt}] # fill this in\n",
    "\n",
    "print(json.dumps(messages, indent=4))"
   ]
  },
  {
   "cell_type": "code",
   "execution_count": 7,
   "metadata": {},
   "outputs": [
    {
     "data": {
      "text/markdown": [
       "Here is a summary of the email and suggested subject:\n",
       "\n",
       "**Summary:** The email is an advertisement for Nordstrom's free shipping and return policy on their website. It also invites customers to add the email address to their address book to ensure timely delivery of future emails.\n",
       "\n",
       "**Suggested Subject:**\n",
       "\n",
       "* \"Get Ready for Free Shipping & Returns at Nordstrom!\"\n",
       "* \"Exclusive Offers Inside Your Inbox\"\n",
       "* \"Shop with Confidence: Free Shipping & Returns\"\n",
       "\n",
       "These subject lines aim to capture the attention of Nordstrom customers and entice them to engage with the email. However, it's worth noting that a more personalized subject line would be ideal, such as one that references the customer's specific account or purchase history.\n",
       "\n",
       "**Additional Recommendations:**\n",
       "\n",
       "* Consider adding a clear call-to-action (CTA) in the email, such as \"Shop Now\" or \"Learn More,\" to encourage customers to take action.\n",
       "* Include a brief summary of the free shipping and return policy terms, such as \"Standard shipping on Nordstrom.com with no minimum purchase requirement.\"\n",
       "* Use a friendly tone and professional language throughout the email to maintain Nordstrom's brand voice."
      ],
      "text/plain": [
       "<IPython.core.display.Markdown object>"
      ]
     },
     "metadata": {},
     "output_type": "display_data"
    }
   ],
   "source": [
    "# Step 3: Call Ollama\n",
    "\n",
    "response = chat(messages=messages, model=\"llama3.2\")\n",
    "\n",
    "# Step 4: print the result\n",
    "\n",
    "subject = response.message.content\n",
    "\n",
    "display(Markdown(subject))"
   ]
  },
  {
   "cell_type": "code",
   "execution_count": 10,
   "metadata": {},
   "outputs": [
    {
     "data": {
      "text/markdown": [
       "**Email Summary:**\n",
       "\n",
       "This email from Nordstrom informs recipients about the Nordy Club program and includes important details such as free shipping and free returns on standard shipping from Nordstrom.com. It also encourages customers to add the Nordstrom email address to their contacts to ensure they receive future communications. Additionally, it includes information on how to unsubscribe from the email list and provides a link to the Nordstrom Privacy Policy.\n",
       "\n",
       "**Suggested Subject:**\n",
       "\"Discover the Benefits of the Nordy Club + Enjoy Free Shipping!\""
      ],
      "text/plain": [
       "<IPython.core.display.Markdown object>"
      ]
     },
     "metadata": {},
     "output_type": "display_data"
    }
   ],
   "source": [
    "# Step 5: Call OpenAI\n",
    "\n",
    "response = openai.chat.completions.create(messages=messages, model=\"gpt-4o-mini\")\n",
    "\n",
    "# Step 4: print the result\n",
    "\n",
    "subject = response.choices[0].message.content\n",
    "\n",
    "display(Markdown(subject))"
   ]
  },
  {
   "cell_type": "code",
   "execution_count": null,
   "metadata": {},
   "outputs": [],
   "source": []
  }
 ],
 "metadata": {
  "kernelspec": {
   "display_name": ".venv",
   "language": "python",
   "name": "python3"
  },
  "language_info": {
   "codemirror_mode": {
    "name": "ipython",
    "version": 3
   },
   "file_extension": ".py",
   "mimetype": "text/x-python",
   "name": "python",
   "nbconvert_exporter": "python",
   "pygments_lexer": "ipython3",
   "version": "3.12.7"
  }
 },
 "nbformat": 4,
 "nbformat_minor": 2
}
