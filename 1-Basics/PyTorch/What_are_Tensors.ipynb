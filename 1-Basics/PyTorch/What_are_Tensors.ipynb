{
 "cells": [
  {
   "cell_type": "markdown",
   "metadata": {},
   "source": [
    "## What are Tensors?\n",
    "Tensor are multi-dimensional array for mathematical and computational efficiency.\n",
    "\n",
    "Tensor has Dimensions - \n",
    "- [1,1] -----------> 0D Tensor(scalar)  ------> for ex - loss function for NN\n",
    "- [1,5] -----------> 1D Tensor (Vectors/Array) ----> word embeddings\n",
    "- [3,5] -----------> 2D Tensor (Matrix) ------> GrayScale Image (MNIST dataset)\n",
    "- [256,256,3] -----> 3D Tensor ------> RGB (Colored) Image\n",
    "- [32,128,128,3] --> 4D Tensor ------> Batch of RGB (Colored) Image\n",
    "- [10,16,64,64,3] -> 5D Tensor ------> Video Data"
   ]
  },
  {
   "cell_type": "markdown",
   "metadata": {},
   "source": []
  },
  {
   "cell_type": "markdown",
   "metadata": {},
   "source": [
    "#### Hardware Accelaration allowing computations on GPUs and TPUs"
   ]
  },
  {
   "cell_type": "markdown",
   "metadata": {},
   "source": []
  },
  {
   "cell_type": "markdown",
   "metadata": {},
   "source": [
    "1. Training Data stored in Tensors\n",
    "2. Weights and Bias stored as Tensors\n",
    "3. Tensor Operation - Matrix Operations, Fwd propogation and back propogation"
   ]
  },
  {
   "cell_type": "markdown",
   "metadata": {},
   "source": []
  }
 ],
 "metadata": {
  "language_info": {
   "name": "python"
  }
 },
 "nbformat": 4,
 "nbformat_minor": 2
}
